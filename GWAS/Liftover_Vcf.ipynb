{
 "cells": [
  {
   "cell_type": "markdown",
   "id": "8f9bbd06-de6e-4fdd-9bc2-985906573813",
   "metadata": {
    "kernel": "SoS"
   },
   "source": [
    "# Liftover vcf from hg19 to hg38\n",
    "\n",
    "The aim of this notebook is to do liftover of `vcf` or `gvcf` from hg19 to hg38"
   ]
  },
  {
   "cell_type": "markdown",
   "id": "424ac1db-b2cd-4638-8682-a9292db641c9",
   "metadata": {
    "kernel": "SoS"
   },
   "source": [
    "## Pre-requisites\n",
    "\n",
    "### Two way to use this pipelin in csglogin\n",
    "\n",
    "`export PATH=/home/yh3455/miniconda3/bin:$PATH`\n",
    "\n",
    "### Or insatll the following packages in your env\n",
    "\n",
    "Make sure you install the pre-requisited before running this notebook:\n",
    "\n",
    "```\n",
    "pip install LDtoolsets\n",
    "```"
   ]
  },
  {
   "cell_type": "markdown",
   "id": "09ee785e-292c-4a67-97dd-c50fdeb9c1a2",
   "metadata": {
    "kernel": "SoS"
   },
   "source": [
    "## Illustration on how to run this notebook"
   ]
  },
  {
   "cell_type": "markdown",
   "id": "9b43bf67-dc2d-4aa4-9f89-d11eac6d2e9e",
   "metadata": {
    "kernel": "SoS"
   },
   "source": [
    "```\n",
    "sos run liftover_vcf.ipynb \\\n",
    "    --input_path file.vcf.gz\\\n",
    "    --cwd  output \\\n",
    "    --container_lmm lmm.sif\n",
    "```"
   ]
  },
  {
   "cell_type": "code",
   "execution_count": null,
   "id": "4665b6b1-5e14-41b1-8537-70082c3f38dd",
   "metadata": {
    "kernel": "SoS",
    "tags": []
   },
   "outputs": [],
   "source": [
    "[global]\n",
    "# Work directory where output will be saved to\n",
    "parameter: cwd = path\n",
    "# Input file (sumstats to do liftover)\n",
    "parameter: input_path = path\n",
    "parameter: fr = 'hg19'\n",
    "# From reference genome, defaut is hg19\n",
    "parameter: to = 'hg38'\n",
    "# To reference genome, defaut is hg38\n",
    "# Remove unmapped coordinates from the sumstats (defaults to True)\n",
    "parameter: remove_missing = True"
   ]
  },
  {
   "cell_type": "code",
   "execution_count": null,
   "id": "e9ad1bbb-eef3-40de-b1c0-c109161bbc58",
   "metadata": {
    "kernel": "SoS"
   },
   "outputs": [],
   "source": [
    "[default (do_Liftover)]\n",
    "depends:  Py_Module('LDtools')\n",
    "input: input_path\n",
    "output: f'{cwd}/{_input:bnn}.hg38.gvcf.gz'\n",
    "task: trunk_workers = 1, job_size=1, walltime = '1h', mem = '8G', cores = 1, tags = f'{step_name}_{_output:bn}'\n",
    "python: expand = '${ }', stderr = f'{_output:n}.stderr', stdout = f'{_output:n}.stdout'\n",
    "\n",
    "    from LDtools.liftover import Liftover\n",
    "    def main(input_path,output_path,fr='hg19',to='hg38',remove_missing=True):\n",
    "        lf = Liftover(fr,to)\n",
    "        print(\"liftover from\" + fr +\"to\" +to)\n",
    "        lf.vcf_liftover(input_path,output_path)\n",
    "   \n",
    "    input_path=${_input:r}\n",
    "    output_path=${_output:r}\n",
    "    fr = '${fr}'\n",
    "    to = '${to}'\n",
    "    remove_missing=${remove_missing}\n",
    "\n",
    "    main(input_path,output_path,fr,to,remove_missing)"
   ]
  }
 ],
 "metadata": {
  "kernelspec": {
   "display_name": "SoS",
   "language": "sos",
   "name": "sos"
  },
  "language_info": {
   "codemirror_mode": "sos",
   "file_extension": ".sos",
   "mimetype": "text/x-sos",
   "name": "sos",
   "nbconvert_exporter": "sos_notebook.converter.SoS_Exporter",
   "pygments_lexer": "sos"
  },
  "sos": {
   "kernels": [
    [
     "Bash",
     "calysto_bash",
     "Bash",
     "#E6EEFF",
     ""
    ],
    [
     "SoS",
     "sos",
     "",
     "",
     "sos"
    ]
   ],
   "version": "0.22.6"
  }
 },
 "nbformat": 4,
 "nbformat_minor": 5
}
