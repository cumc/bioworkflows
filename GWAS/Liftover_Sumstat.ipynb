{
 "cells": [
  {
   "cell_type": "markdown",
   "id": "8f9bbd06-de6e-4fdd-9bc2-985906573813",
   "metadata": {
    "kernel": "SoS"
   },
   "source": [
    "# Liftover summary stats from hg19 to hg38\n",
    "\n",
    "The aim of this notebook is to do liftover of summary statistics data from hg19 to hg38"
   ]
  },
  {
   "cell_type": "markdown",
   "id": "263059d8-0bf5-4585-911c-99da5d98d99b",
   "metadata": {
    "kernel": "SoS"
   },
   "source": [
    "## Pre-requisites\n",
    "\n",
    "### Two way to use this pipelin in csglogin\n",
    "\n",
    "`export PATH=/home/yh3455/miniconda3/bin:$PATH`\n",
    "\n",
    "### Or insatll the following packages in your env\n",
    "\n",
    "Make sure you install the pre-requisited before running this notebook:\n",
    "\n",
    "```\n",
    "pip install LDtoolsets\n",
    "```"
   ]
  },
  {
   "cell_type": "markdown",
   "id": "09ee785e-292c-4a67-97dd-c50fdeb9c1a2",
   "metadata": {
    "kernel": "SoS"
   },
   "source": [
    "## Illustration on how to run this notebook"
   ]
  },
  {
   "cell_type": "markdown",
   "id": "9b43bf67-dc2d-4aa4-9f89-d11eac6d2e9e",
   "metadata": {
    "kernel": "SoS"
   },
   "source": [
    "```\n",
    "sos run Liftover_Sumstat.ipynb \\\n",
    "    --input_path sumstats.snp_stats.gz\\\n",
    "    --cwd  output \\\n",
    "    --container_lmm lmm.sif\n",
    "```"
   ]
  },
  {
   "cell_type": "code",
   "execution_count": null,
   "id": "4665b6b1-5e14-41b1-8537-70082c3f38dd",
   "metadata": {
    "kernel": "SoS",
    "tags": []
   },
   "outputs": [],
   "source": [
    "[global]\n",
    "# Work directory where output will be saved to\n",
    "parameter: cwd = path\n",
    "# Input file (sumstats to do liftover)\n",
    "parameter: input_path = path\n",
    "parameter: fr = 'hg19'\n",
    "# From reference genome, defaut is hg19\n",
    "parameter: to = 'hg38'\n",
    "# To reference genome, defaut is hg38\n",
    "# Remove unmapped coordinates from the sumstats (defaults to True)\n",
    "parameter: remove_missing = True\n",
    "# Container\n",
    "parameter: container_lmm = 'statisticalgenetics/lmm:3.0'"
   ]
  },
  {
   "cell_type": "code",
   "execution_count": null,
   "id": "e9ad1bbb-eef3-40de-b1c0-c109161bbc58",
   "metadata": {
    "kernel": "SoS"
   },
   "outputs": [],
   "source": [
    "[default_1 (export utils script)]\n",
    "depends:  Py_Module('LDtools')\n",
    "output: f'{cwd:a}/utils.py'\n",
    "report:container=container_lmm, expand = '${ }', output=f'{cwd:a}/utils.py'\n",
    "\n",
    "    from LDtools.sumstat import Sumstat\n",
    "    from LDtools.liftover import Liftover\n",
    "    def main(input_path,output_path,output_unmapped,output_mapped,fr='hg19',to='hg38',remove_missing=True):\n",
    "        lf = Liftover(fr,to)\n",
    "        print(\"reading GWAS sumstat\")\n",
    "        sums = Sumstat(input_path)\n",
    "        print(\"liftover from\" + fr +\"to\" +to)\n",
    "        sums1 = lf.sumstat_liftover(sums.ss)\n",
    "        if remove_missing:\n",
    "            sums1[sums1.CHR == 0].to_csv(output_unmapped, compression='gzip', sep = \"\\t\", header = True, index = False)\n",
    "            sums1[sums1.CHR != 0].to_csv(output_mapped, compression='gzip', sep = \"\\t\", header = True, index = False)\n",
    "        else:\n",
    "            sums1.to_csv(output_path, compression='gzip', sep = \"\\t\", header = True, index = False)"
   ]
  },
  {
   "cell_type": "code",
   "execution_count": null,
   "id": "e6e9c77d-4b95-4e35-8ccf-ac3e5c7a5e5a",
   "metadata": {
    "kernel": "SoS"
   },
   "outputs": [],
   "source": [
    "[default_2 (do liftover)]\n",
    "depends: f'{cwd:a}/utils.py'\n",
    "input: input_path\n",
    "output: sumstats_lifted = f'{cwd}/{_input:bnn}.hg38.sumstats.gz',\n",
    "        sumstats_unmapped = f'{cwd}/{_input:bnn}.hg38.sumstats_unmapped.gz',\n",
    "        sumstats_mapped = f'{cwd}/{_input:bnn}.hg38.sumstats_mapped.gz'\n",
    "task: trunk_workers = 1, job_size=1, walltime = '1h', mem = '8G', cores = 1, tags = f'{step_name}_{_output[0]:bn}'\n",
    "python:container=container_lmm, input = f'{cwd:a}/utils.py', expand = '${ }', stderr = f'{_output[0]:n}.stderr', stdout = f'{_output[0]:n}.stdout'\n",
    "    \n",
    "    input_path=${_input:r}\n",
    "    output_path=${_output[0]:r}\n",
    "    output_unmapped=${_output[1]:r}\n",
    "    output_mapped=${_output[2]:r}\n",
    "    fr = ${fr}\n",
    "    to = ${to}\n",
    "    remove_missing=${remove_missing}\n",
    "\n",
    "    main(input_path,output_path,output_unmapped,output_mapped,fr,to,remove_missing)"
   ]
  }
 ],
 "metadata": {
  "kernelspec": {
   "display_name": "SoS",
   "language": "sos",
   "name": "sos"
  },
  "language_info": {
   "codemirror_mode": "sos",
   "file_extension": ".sos",
   "mimetype": "text/x-sos",
   "name": "sos",
   "nbconvert_exporter": "sos_notebook.converter.SoS_Exporter",
   "pygments_lexer": "sos"
  },
  "sos": {
   "kernels": [
    [
     "Bash",
     "calysto_bash",
     "Bash",
     "#E6EEFF",
     ""
    ],
    [
     "SoS",
     "sos",
     "",
     "",
     "sos"
    ]
   ],
   "version": "0.22.7"
  }
 },
 "nbformat": 4,
 "nbformat_minor": 5
}
