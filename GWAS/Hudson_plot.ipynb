{
 "cells": [
  {
   "cell_type": "markdown",
   "metadata": {
    "kernel": "SoS"
   },
   "source": [
    "# Hudson plot\n",
    "\n",
    "## Aim\n",
    "\n",
    "Create mirrored plots for the joint visualization and comparison of different phenotypes or LMM methods"
   ]
  },
  {
   "cell_type": "markdown",
   "metadata": {
    "kernel": "SoS"
   },
   "source": [
    "# Command interface"
   ]
  },
  {
   "cell_type": "code",
   "execution_count": 3,
   "metadata": {
    "kernel": "Bash"
   },
   "outputs": [
    {
     "name": "stdout",
     "output_type": "stream",
     "text": [
      "usage: sos run /home/dc2325/project/UKBB_GWAS_DEV/workflow/Hudson_plot.ipynb\n",
      "               [workflow_name | -t targets] [options] [workflow_options]\n",
      "  workflow_name:        Single or combined workflows defined in this script\n",
      "  targets:              One or more targets to generate\n",
      "  options:              Single-hyphen sos parameters (see \"sos run -h\" for details)\n",
      "  workflow_options:     Double-hyphen workflow-specific parameters\n",
      "\n",
      "Workflows:\n",
      "  hudson\n",
      "\n",
      "Global Workflow Options:\n",
      "  --cwd VAL (as path, required)\n",
      "                        the output directory for generated files\n",
      "  --sumstats-1 VAL (as path, required)\n",
      "                        GWAS summary statistic file for phenotype/method 1\n",
      "  --sumstats-2 VAL (as path, required)\n",
      "                        GWAS summary statistic file for phenotype/method 2\n",
      "  --toptitle VAL (as str, required)\n",
      "                        Top Title for the plot\n",
      "  --bottomtitle VAL (as str, required)\n",
      "                        Bottom Title for the plot\n",
      "  --job-size 1 (as int)\n",
      "                        For cluster jobs, number commands to run per job\n",
      "  --numThreads 2 (as int)\n",
      "                        Specific number of threads to use\n",
      "  --bp POS\n",
      "                        Column name for BP\n",
      "  --pval P\n",
      "                        Column name for p-value\n",
      "  --snp SNP\n",
      "                        Column name for SNP\n",
      "  --highlight-p-top 0.0 (as float)\n",
      "                        P value use to highlight variants\n",
      "  --highlight-p-bottom 0.0 (as float)\n",
      "  --highlight-snp  (as list)\n",
      "                        SNP list to highlight\n",
      "  --pval-filter 0.0 (as float)\n",
      "                        P value filter\n",
      "  --container-lmm 'statisticalgenetics/lmm:1.2'\n",
      "                        The container with the lmm software. Can be either a\n",
      "                        dockerhub image or a singularity `sif` file.\n",
      "\n",
      "Sections\n",
      "  hudson_1:\n",
      "  hudson_2:             Hudson plots for two traits\n",
      "    Workflow Options:\n",
      "      --annotate-snp  [line.strip() for line in open(f'{cwd}/{sumstats_1:bnn}_{sumstats_2:bnn}.snplist', 'r')]\n",
      "\n",
      "                        SNP list to annotate\n"
     ]
    }
   ],
   "source": [
    "sos run Hudson_plot.ipynb -h"
   ]
  },
  {
   "cell_type": "markdown",
   "metadata": {
    "kernel": "Bash"
   },
   "source": [
    "## Illustration with minimal working examples"
   ]
  },
  {
   "cell_type": "markdown",
   "metadata": {
    "kernel": "SoS"
   },
   "source": [
    "### Hudson plot example command\n",
    "\n",
    "On a minimal working example (MWE) dataset,\n",
    "\n",
    "```\n",
    "sos run Hudson_plot.ipynb hudson  \\\n",
    "    --cwd output \\\n",
    "    --sumstats_1 output/phenotypes_WAIST.fastGWA.snp_stats.gz \\\n",
    "    --sumstats_2 output/phenotypes_BMI.fastGWA.snp_stats.gz \\\n",
    "    --toptitle Waist \\\n",
    "    --bottomtitle BMI \\\n",
    "    --highlight_p_top 0.1 \\\n",
    "    --highlight_p_bottom 0.1 \\\n",
    "    --pval_filter 1 \\\n",
    "    --container_lmm lmm_v1_2.sif\n",
    "```"
   ]
  },
  {
   "cell_type": "code",
   "execution_count": null,
   "metadata": {
    "kernel": "SoS"
   },
   "outputs": [],
   "source": [
    "[global]\n",
    "# the output directory for generated files\n",
    "parameter: cwd = path\n",
    "# GWAS summary statistic file for phenotype/method 1\n",
    "parameter: sumstats_1 = path\n",
    "#  GWAS summary statistic file for phenotype/method 2\n",
    "parameter: sumstats_2 = path\n",
    "# Top Title for the plot\n",
    "parameter: toptitle=str\n",
    "# Bottom Title for the plot\n",
    "parameter: bottomtitle=str\n",
    "# For cluster jobs, number commands to run per job\n",
    "parameter: job_size = 1\n",
    "# Specific number of threads to use\n",
    "parameter: numThreads = 2\n",
    "# Column name for BP\n",
    "parameter: bp = 'POS'\n",
    "# Column name for p-value\n",
    "parameter: pval = 'P'\n",
    "# Column name for SNP\n",
    "parameter: snp = 'SNP'\n",
    "# P value use to highlight variants\n",
    "parameter: highlight_p_top = 0.0\n",
    "parameter: highlight_p_bottom = 0.0\n",
    "# SNP list to highlight\n",
    "parameter: highlight_snp = []\n",
    "#P value filter\n",
    "parameter: pval_filter = 0.0\n",
    "# The container with the lmm software. Can be either a dockerhub image or a singularity `sif` file.\n",
    "parameter: container_lmm = 'statisticalgenetics/lmm:1.2'"
   ]
  },
  {
   "cell_type": "code",
   "execution_count": null,
   "metadata": {
    "kernel": "SoS"
   },
   "outputs": [],
   "source": [
    "[hudson_1]\n",
    "input:sumstats_1, sumstats_2\n",
    "output: f'{cwd}/{sumstats_1:bnn}_{sumstats_2:bnn}.snplist'\n",
    "task: trunk_workers = 1, walltime = '1h', mem = '6G', cores = numThreads, tags = f'{step_name}_{_output[0]:bn}'\n",
    "python: container=container_lmm, expand= \"${ }\", stderr = f'{_output[0]:n}.stderr', stdout = f'{_output[0]:n}.stdout'\n",
    "    import pandas as pd\n",
    "    sumstats_1 = pd.read_csv('${_input[0]}', compression='gzip', header=0, sep='\\t', quotechar='\"')\n",
    "    sumstats_2 = pd.read_csv('${_input[1]}', compression='gzip', header=0, sep='\\t', quotechar='\"')\n",
    "    sig_1=sumstats_1[sumstats_1.P<${pval_filter}]\n",
    "    sig_2=sumstats_2[sumstats_2.P<${pval_filter}]\n",
    "    sub_df=sig_1.sort_values(['CHR','P'],ascending=True).groupby('CHR').head(10)\n",
    "    print(sub_df.shape)\n",
    "    sub_df2=sig_2.sort_values(['CHR','P'],ascending=True).groupby('CHR').head(10)\n",
    "    print(sub_df2.shape)\n",
    "    sub_df.SNP[sub_df.SNP.isin(sub_df2.SNP)]\n",
    "    combine_df=pd.merge(sub_df.SNP, sub_df2.SNP, how='outer') # outer merge, without intersection\n",
    "    merge_snp = combine_df.SNP\n",
    "    merge_snp.to_csv(${_output[0]:r}, sep=' ', header = False, index = False)"
   ]
  },
  {
   "cell_type": "code",
   "execution_count": null,
   "metadata": {
    "kernel": "SoS"
   },
   "outputs": [],
   "source": [
    "# Hudson plots for two traits\n",
    "[hudson_2]\n",
    "# SNP list to annotate\n",
    "parameter: annotate_snp = [line.strip() for line in open(f'{cwd}/{sumstats_1:bnn}_{sumstats_2:bnn}.snplist', 'r')]\n",
    "input: sumstats_1, sumstats_2\n",
    "output: f'{cwd}/{sumstats_1:bnn}_{sumstats_2:bnn}.hudson.png'\n",
    "task: trunk_workers = 1, walltime = '10h', mem = '30G', cores = numThreads, tags = f'{step_name}_{_output[0]:bn}'\n",
    "R: container=container_lmm, expand= \"${ }\", stderr = f'{_output[0]:n}.stderr', stdout = f'{_output[0]:n}.stdout'\n",
    "    library('hudson')\n",
    "    library('ggplot2')\n",
    "    library('ggrepel')\n",
    "    # Import relevant sumstats\n",
    "    gwas.1 <- read.table(gzfile('${_input[0]}'), header=T)\n",
    "    gwas.2 <- read.table(gzfile('${_input[1]}'), header=T)\n",
    "  \n",
    "    # Create the dataframes with useful info\n",
    "    qqdat1 <- data.frame(SNP=gwas.1$${snp},CHR=gwas.1$CHR,POS=gwas.1$${bp}, pvalue=gwas.1$${pval},length.out=nrow(gwas.1), each=1)\n",
    "    qqdat2 <- data.frame(SNP=gwas.2$${snp},CHR=gwas.2$CHR,POS=gwas.2$${bp}, pvalue=gwas.2$${pval},length.out=nrow(gwas.2), each=1)\n",
    "  \n",
    "    #Create mirrod plot\n",
    "    gmirror(top=qqdat1, bottom=qqdat2, tline=5e-08, bline=5e-08, \n",
    "            toptitle=\"${toptitle}\", bottomtitle = \"${bottomtitle}\", log10=TRUE, opacity=0.5,\n",
    "            annotate_snp = c(${','.join(['\"%s\"' % x for x in annotate_snp if x is not None])}),\n",
    "            highlight_snp = c(${','.join(['\"%s\"' % x for x in highlight_snp if x is not None])}),\n",
    "            highlight_p = c(${highlight_p_top},${highlight_p_bottom}), highlighter=\"green\",\n",
    "            file='${_output:n}', res=300)"
   ]
  }
 ],
 "metadata": {
  "kernelspec": {
   "display_name": "SoS",
   "language": "sos",
   "name": "sos"
  },
  "language_info": {
   "codemirror_mode": "sos",
   "file_extension": ".sos",
   "mimetype": "text/x-sos",
   "name": "sos",
   "nbconvert_exporter": "sos_notebook.converter.SoS_Exporter",
   "pygments_lexer": "sos"
  },
  "sos": {
   "kernels": [
    [
     "Bash",
     "calysto_bash",
     "Bash",
     "#E6EEFF",
     ""
    ],
    [
     "SoS",
     "sos",
     "",
     "",
     "sos"
    ]
   ],
   "version": "0.21.12"
  }
 },
 "nbformat": 4,
 "nbformat_minor": 4
}
