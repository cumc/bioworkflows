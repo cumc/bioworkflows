{
 "cells": [
  {
   "cell_type": "markdown",
   "id": "7a09f4ce",
   "metadata": {
    "kernel": "SoS"
   },
   "source": [
    "# Scalable pipeline for computing LD matrix in big sample phenotype"
   ]
  },
  {
   "cell_type": "markdown",
   "id": "8259e900",
   "metadata": {
    "kernel": "SoS"
   },
   "source": [
    "## Aim"
   ]
  },
  {
   "cell_type": "markdown",
   "id": "185fb76b",
   "metadata": {
    "kernel": "SoS"
   },
   "source": [
    "To extract the summary statistics and genotype on specific genomic regions and calculate their LD matrix."
   ]
  },
  {
   "cell_type": "markdown",
   "id": "c94dcb53",
   "metadata": {
    "kernel": "SoS"
   },
   "source": [
    "## Pre-requisites\n",
    "\n",
    "### Two way to use this pipelin in csglogin\n",
    "\n",
    "`export PATH=/home/yh3455/miniconda3/bin:$PATH`\n",
    "\n",
    "### Or insatll the following packages in your env\n",
    "\n",
    "Make sure you install the pre-requisited before running this notebook:\n",
    "\n",
    "```\n",
    "pip install LDtoolsets\n",
    "```"
   ]
  },
  {
   "cell_type": "markdown",
   "id": "9070e9aa",
   "metadata": {
    "jp-MarkdownHeadingCollapsed": true,
    "kernel": "SoS",
    "tags": []
   },
   "source": [
    "### Input\n",
    "\n",
    "- `--region-file`, including a list of regions\n",
    "    - Each locus will be represented by one line in the region file with 3 columns chr, start, and end. e.g. `7 27723990 28723990`\n",
    "- `--geno-path`, the path of a genotype inventory, which lists the path of all genotype file in `bgen` format or in `plink` format.\n",
    "    - The list is a file with 2 columns: `chr genotype_file_chr.ext`. \n",
    "    - The first column is chromosome ID, the 2nd file is genotype for that chromosome.\n",
    "    - When chromosome ID is 0, it implies that the genotype file contains all the genotypes.\n",
    "- `--pheno-path`, the path of a phenotype. Only for one genotype data. If `None`, only `pld` will be calculated.\n",
    "    - The phenotype file should have a column with the name `IID`, which is used to represent the sample ID.\n",
    "- `--sumstats-path`, the path of the GWAS file, including all summary statistics (eg, $\\hat{\\beta}$, $SE(\\hat{\\beta})$ and p-values)\n",
    "    - These summary statistics should contain at least these columns: `chrom, pos, ref, alt, snp_id, bhat, sbhat, p`\n",
    "- `--unrelated-samples`, the file path of unrelated samples with a column named `IID`. If `None`, all samples will be considered unrelative.  \n",
    "- `--cwd`, the path of output directory\n",
    "\n",
    "\n",
    "- `--imp-geno-path`, the path of a genotype inventory, which lists the path of all genotype file in `bgen` format or in `plink` format.\n",
    "    - The list is a file with 2 columns: `chr genotype_file_chr.ext`. \n",
    "    - The first column is chromosome ID, the 2nd file is genotype for that chromosome.\n",
    "    - When chromosome ID is 0, it implies that the genotype file contains all the genotypes.\n",
    "- `--imp-sumstats-path`, the path of the GWAS file, including all summary statistics (eg, $\\hat{\\beta}$, $SE(\\hat{\\beta})$ and p-values)\n",
    "    - These summary statistics should contain at least these columns: `chrom, pos, ref, alt, snp_id, bhat, sbhat, p`\n",
    "- `--imp-ref`, the reference genome if exome genotype and imputed genotype are different. If `None`, The two genotype data will be considered from the same  "
   ]
  },
  {
   "cell_type": "markdown",
   "id": "fb3a3116",
   "metadata": {
    "kernel": "SoS",
    "tags": []
   },
   "source": [
    "### Output\n",
    "- `rg_stat`, the reginonal summary stats\n",
    "    - The rowname is the variant ID.\n",
    "    - It should contain at least the following columns: `CHR, BP, SNP, ALT, REF, BETA, SE, Z, P`.\n",
    "- `rg_geno`,the regional genotypes\n",
    "    - The rowname is the variant ID, which should match with the rowname of `rg_stat`.\n",
    "    - The column name is the sample's IID, which is sorted by the sample in phenotype.\n",
    "- `pld`, the regional approximate population LD calculated by unrelated individuals\n",
    "- `sld`, the regional approximate sample LD calcualted by unrelated individuals in a phenotype."
   ]
  },
  {
   "cell_type": "markdown",
   "id": "3c52ba4f",
   "metadata": {
    "kernel": "SoS"
   },
   "source": [
    "## Example command"
   ]
  },
  {
   "cell_type": "markdown",
   "id": "5acd37fe",
   "metadata": {
    "kernel": "SoS"
   },
   "source": [
    "```\n",
    "sos run /home/yh3455/Github/bioworkflows/GWAS/LD_merged_exo_imp.ipynb     default    --cwd /home/yh3455/Github/bioworkflows/GWAS/test    --region-file /home/dmc2245/UKBiobank/results/LD_clumping/092321_f3393_200Kexomes/090321_UKBB_Hearing_aid_f3393_expandedwhite_6436cases_96601ctrl_PC1_2_f3393.regenie.snp_stats.clumped_region    --pheno-path /home/dmc2245/UKBiobank/phenotype_files/hearing_impairment/090321_UKBB_Hearing_aid_f3393_expandedwhite_6436cases_96601ctrl_PC1_2.tsv    --geno-path /home/dmc2245/UKBiobank/data/exome_files/project_VCF/072721_run/plink/092321_UKBB_qc_exome_geno_path.txt   --sumstats-path /home/dmc2245/UKBiobank/results/REGENIE_results/results_exome_data/090921_f3393_hearing_aid_200K/*.snp_stats.gz     --unrelated-samples /home/dmc2245/UKBiobank/results/083021_PCA_results/090221_ldprun_unrelated/cache/UKB_genotypedatadownloaded083019.090221_sample_variant_qc_final_callrate90.filtered.extracted.europeans.filtered.090221_ldprun_unrelated.filtered.prune.txt  --job-size 1\n",
    "```"
   ]
  },
  {
   "cell_type": "markdown",
   "id": "533766a2",
   "metadata": {
    "kernel": "SoS"
   },
   "source": [
    "## Workflow codes"
   ]
  },
  {
   "cell_type": "code",
   "execution_count": 1,
   "id": "2bf91465",
   "metadata": {
    "kernel": "SoS",
    "tags": []
   },
   "outputs": [],
   "source": [
    "[global]\n",
    "# Work directory where output will be saved to\n",
    "parameter: cwd = path\n",
    "# Region specifications\n",
    "parameter: region_file = path\n",
    "# Genotype file inventory\n",
    "parameter: geno_path = path\n",
    "# Phenotype path\n",
    "parameter: pheno_path = path\n",
    "# Sample file path, for bgen format\n",
    "parameter: bgen_sample_path = path('.')\n",
    "# Path to summary stats file\n",
    "parameter: sumstats_path = path\n",
    "# Path to summary stats format configuration\n",
    "parameter: format_config_path = path('.')\n",
    "# Path to samples of unrelated individuals\n",
    "parameter: unrelated_samples = path\n",
    "# Number of tasks to run in each job on cluster\n",
    "parameter: job_size = int\n",
    "# Number of tasks to run in each job on cluster\n",
    "parameter: imp_geno_path = path\n",
    "# Path to summary stats file\n",
    "parameter: imp_sumstats_path = path\n",
    "# The reference genome of imputed genotype data\n",
    "parameter: imp_ref = str\n",
    "parameter: walltime = '12h'\n",
    "parameter: mem = '60G'\n",
    "fail_if(not region_file.is_file(), msg = 'Cannot find regions to extract. Please specify them using ``--region-file`` option.')\n",
    "# Load all regions of interest. Each item in the list will be a region: (chr, start, end)\n",
    "regions = list(set([tuple(x.strip().split()) for x in open(region_file).readlines() if x.strip()]))"
   ]
  },
  {
   "cell_type": "code",
   "execution_count": 1,
   "id": "47a33e63",
   "metadata": {
    "kernel": "SoS",
    "tags": []
   },
   "outputs": [],
   "source": [
    "[default_1 (export utils script)]\n",
    "depends: Py_Module('pandas'), Py_Module('numpy'), Py_Module('dask'), Py_Module('LDtools')\n",
    "parameter: scan_window = 500000\n",
    "output: f'{cwd:a}/utils.py'\n",
    "report: expand = '${ }', output=f'{cwd:a}/utils.py'\n",
    "    import pandas as pd\n",
    "    import numpy as np\n",
    "    import dask.array as da\n",
    "    from LDtools.liftover import *\n",
    "    from LDtools.genodata import *\n",
    "    from LDtools.sumstat import *\n",
    "    from LDtools.ldmatrix import *\n",
    "    from LDtools.utils import *\n",
    "\n",
    "\n",
    "    def main(region,geno_path,sumstats_path,pheno_path,unr_path,imp_geno_path,imp_sumstats_path,imp_ref,output_sumstats,output_LD,bgen_sample_path):\n",
    "\n",
    "        print('1. Preprocess sumstats (regenie format) and extract it from a region')\n",
    "        if pheno_path is not None:\n",
    "            # Load phenotype file\n",
    "            pheno = pd.read_csv(pheno_path, header=0, delim_whitespace=True, quotechar='\"')\n",
    "        if unr_path is not None:\n",
    "            # Load unrelated sample file\n",
    "            unr = pd.read_csv(unr_path, header=0, delim_whitespace=True, quotechar='\"')  \n",
    "        # Load the file of summary statistics and standardize it.\n",
    "        exome_sumstats = Sumstat(sumstats_path)\n",
    "        exome_geno = Genodata(geno_path,bgen_sample_path)\n",
    "\n",
    "        print('1.1. Region extraction')\n",
    "        exome_sumstats.extractbyregion(region)\n",
    "        exome_geno.extractbyregion(region)\n",
    "        exome_sumstats.match_ss(exome_geno.bim)\n",
    "        exome_geno.geno_in_stat(exome_sumstats.ss)\n",
    "\n",
    "        if imp_geno_path is not None:\n",
    "            #two genotype data\n",
    "            imput_sumstats = Sumstat(imp_sumstats_path)\n",
    "            imput_geno = Genodata(imp_geno_path,bgen_sample_path)\n",
    "\n",
    "            if imp_ref is None:\n",
    "                imput_sumstats.extractbyregion(region)\n",
    "                imput_geno.extractbyregion(region)\n",
    "                imput_sumstats.match_ss(imput_geno.bim)\n",
    "                imput_geno.geno_in_stat(imput_sumstats.ss)\n",
    "            else:\n",
    "                print('1.2. LiftOver the region')\n",
    "                hg38toimpref = Liftover('hg38',imp_ref)\n",
    "                imp_region = hg38toimpref.region_liftover(region)\n",
    "                imput_sumstats.extractbyregion(imp_region)\n",
    "                imput_geno.extractbyregion(imp_region)\n",
    "                imput_sumstats.match_ss(imput_geno.bim)\n",
    "                imput_geno.geno_in_stat(imput_sumstats.ss)\n",
    "\n",
    "                print('1.3. Regional SNPs Liftover')\n",
    "                impreftohg38 = Liftover(imp_ref,'hg38') #oppsite with hg38toimpref\n",
    "                imput_geno.bim = impreftohg38.bim_liftover(imput_geno.bim)\n",
    "                imput_sumstats.ss.POS = list(imput_geno.bim.pos)\n",
    "                imput_sumstats.ss.SNP = list(imput_geno.bim.snp)\n",
    "\n",
    "            print('1.1.1 Get exome unique sumstats and geno and Combine sumstats')\n",
    "            snp_match = compare_snps(exome_sumstats.ss,imput_sumstats.ss)\n",
    "            exome_sumstats.ss = exome_sumstats.ss.loc[snp_match.qidx[snp_match.exact==False].drop_duplicates()] #remove by exact match. can be improved.\n",
    "            exome_geno.geno_in_stat(exome_sumstats.ss)\n",
    "            sumstats = pd.concat([exome_sumstats.ss,imput_sumstats.ss])\n",
    "        else:\n",
    "            #one genotype data\n",
    "            sumstats = exome_sumstats\n",
    "\n",
    "        print('2. Remove relative samples')\n",
    "        if unr_path is not None:\n",
    "            exome_geno.geno_in_unr(unr)\n",
    "            if imp_geno_path is not None:\n",
    "                imput_geno.geno_in_unr(unr)\n",
    "        else:\n",
    "            print('Warning:There is no file of relative sample. All sample are included in computing LD matrix')\n",
    "\n",
    "        if pheno_path is not None:\n",
    "            print('Warning: This function has been implementd yet.')\n",
    "            pass #sld and pld\n",
    "\n",
    "        print('3. Calculate LD matrix')\n",
    "        if imp_geno_path is None:\n",
    "            cor_da = geno_corr(exome_geno.bed.T)\n",
    "        else:\n",
    "            xx = geno_corr(exome_geno.bed.T)\n",
    "            yy = geno_corr(imput_geno.bed.T,step=500)\n",
    "\n",
    "            imput_fam = imput_geno.fam.copy()\n",
    "            imput_fam.index = list(imput_fam.iid.astype(str))\n",
    "            imput_fam['i'] = list(range(imput_fam.shape[0]))\n",
    "            imput_fam_comm = imput_fam.loc[list(exome_geno.fam.iid.astype(str))]\n",
    "            imput_geno.extractbyidx(list(imput_fam_comm.i),row=False)\n",
    "            xy = geno_corr(exome_geno.bed.T,imput_geno.bed.T,step=500)\n",
    "            cor_da = da.concatenate([da.concatenate([xx,xy],axis=1),da.concatenate([xy.T,yy],axis=1)],axis=0)\n",
    "\n",
    "        print('4. Output sumstats and LD matrix')\n",
    "        index = list(sumstats.SNP.apply(shorten_id))\n",
    "        sumstats.SNP = index\n",
    "        sumstats.index = list(range(sumstats.shape[0]))\n",
    "        sumstats.to_csv(output_sumstats, sep = \"\\t\", header = True, index = False,compression='gzip')\n",
    "\n",
    "        corr = cor_da.compute()\n",
    "        np.fill_diagonal(corr, 1)\n",
    "        corr = pd.DataFrame(corr, columns=index)\n",
    "        corr.to_csv(output_LD, sep = \"\\t\", header = True, index = False,compression='gzip')\n"
   ]
  },
  {
   "cell_type": "markdown",
   "id": "8a050303",
   "metadata": {
    "kernel": "SoS"
   },
   "source": [
    "## Extract data\n",
    "\n",
    "This step runs in parallel for all loci listed in the region file (via `for_each`)."
   ]
  },
  {
   "cell_type": "code",
   "execution_count": 3,
   "id": "31ef28d6",
   "metadata": {
    "kernel": "SoS"
   },
   "outputs": [],
   "source": [
    "[default_2 (extract genotypes)]\n",
    "depends: f'{cwd:a}/utils.py'\n",
    "input: geno_path, pheno_path, sumstats_path, unrelated_samples, imp_geno_path,imp_sumstats_path, bgen_sample_path, for_each = 'regions'\n",
    "output: sumstats = f'{cwd:a}/{_regions[0]}_{_regions[1]}_{_regions[2]}/{sumstats_path:bn}_{_regions[0]}_{_regions[1]}_{_regions[2]}.sumstats.gz',\n",
    "        genotype = f'{cwd:a}/{_regions[0]}_{_regions[1]}_{_regions[2]}/{sumstats_path:bn}_{_regions[0]}_{_regions[1]}_{_regions[2]}.genotype.gz',\n",
    "        pld = f'{cwd:a}/{_regions[0]}_{_regions[1]}_{_regions[2]}/{sumstats_path:bn}_{_regions[0]}_{_regions[1]}_{_regions[2]}.pre_pop_ld.pickle'\n",
    "task: trunk_workers = 1, trunk_size = job_size, walltime = walltime, mem = mem, cores = 1, tags = f'{step_name}_{_output[0]:bn}'\n",
    "python: expand = '${ }', input = f'{cwd:a}/utils.py', stderr = f'{_output[0]:n}.stderr', stdout = f'{_output[0]:n}.stdout'\n",
    "    \n",
    "\n",
    "    import os\n",
    "    # output path files that we will need in our final version\n",
    "    output_sumstats = ${_output['sumstats']:r}\n",
    "    output_genotype = ${_output['genotype']:r}\n",
    "    output_pld = ${_output['pld']:r}\n",
    "\n",
    "    # this general path is used to create other temporary files that we need to calculate the ld matrices later on\n",
    "    cwd = os.getcwd()\n",
    "    output_general = '${cwd}/${_regions[0]}_${_regions[1]}_${_regions[2]}/${sumstats_path:bn}_${_regions[0]}_${_regions[1]}_${_regions[2]}'\n",
    "\n",
    "    input_geno_path = ${_input[0]:r}\n",
    "    input_pheno_path = ${_input[1]:r}\n",
    "    input_sumstats_path = ${_input[2]:r}\n",
    "    input_unrelated_samples = ${_input[3]:r}\n",
    "    imp_geno_path = ${_input[4]:r}\n",
    "    imp_sumstats_path = ${_input[5]:r}\n",
    "    bgen_sample_path = ${_input[6]:r}\n",
    "    imp_ref =  '${imp_ref}'\n",
    "    \n",
    "    input_format_config = ${format_config_path:r} if ${format_config_path.is_file()} else None\n",
    "\n",
    "    \n",
    "    # Load genotype file for the region of interest\n",
    "    geno_inventory = dict([x.strip().split() for x in open(input_geno_path).readlines() if x.strip()])\n",
    "    imp_geno_inventory = dict([x.strip().split() for x in open(imp_geno_path).readlines() if x.strip()])\n",
    "    chrom = \"${_regions[0]}\"\n",
    "    if chrom.startswith('chr'):\n",
    "        chrom = chrom[3:]\n",
    "    if chrom not in geno_inventory:\n",
    "        geno_file = geno_inventory['0']\n",
    "        imp_geno_path = imp_geno_inventory['0']\n",
    "    else:\n",
    "        geno_file = geno_inventory[chrom]\n",
    "        imp_geno_path = imp_geno_inventory[chrom]\n",
    "\n",
    "    if not os.path.isfile(geno_file):\n",
    "        # relative path\n",
    "        if not os.path.isfile('${_input[0]:ad}/' + geno_file):\n",
    "            raise ValueError(f\"Cannot find genotype file {geno_file}\")\n",
    "        else:\n",
    "            geno_file = '${_input[0]:ad}/' + geno_file\n",
    "\n",
    "\n",
    "    region = (int(chrom), ${_regions[1]}, ${_regions[2]})\n",
    "\n",
    "    print(region, geno_file, input_sumstats_path, input_pheno_path, input_unrelated_samples,imp_geno_path,imp_sumstats_path,imp_ref,\n",
    "                                output_sumstats, output_pld,bgen_sample_path)\n",
    "    main(region, geno_file, input_sumstats_path, input_pheno_path, input_unrelated_samples,imp_geno_path,imp_sumstats_path,imp_ref,\n",
    "                                output_sumstats, output_pld,bgen_sample_path)"
   ]
  },
  {
   "cell_type": "code",
   "execution_count": null,
   "id": "e442452d",
   "metadata": {
    "kernel": "SoS"
   },
   "outputs": [],
   "source": []
  }
 ],
 "metadata": {
  "kernelspec": {
   "display_name": "SoS",
   "language": "sos",
   "name": "sos"
  },
  "language_info": {
   "codemirror_mode": "sos",
   "file_extension": ".sos",
   "mimetype": "text/x-sos",
   "name": "sos",
   "nbconvert_exporter": "sos_notebook.converter.SoS_Exporter",
   "pygments_lexer": "sos"
  },
  "sos": {
   "kernels": [
    [
     "SoS",
     "sos",
     "",
     "",
     "sos"
    ]
   ],
   "version": "0.22.7"
  }
 },
 "nbformat": 4,
 "nbformat_minor": 5
}
