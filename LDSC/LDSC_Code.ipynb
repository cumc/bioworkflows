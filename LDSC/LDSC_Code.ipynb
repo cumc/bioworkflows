{
 "cells": [
  {
   "cell_type": "markdown",
   "metadata": {
    "kernel": "SoS"
   },
   "source": [
    "## SoS Workflow:\n",
    "\n",
    "This is the options and the SoS code to run the LDSC pipeline using your own data. \n",
    "\n",
    "## Command Interface:"
   ]
  },
  {
   "cell_type": "code",
   "execution_count": 1,
   "metadata": {
    "kernel": "SoS"
   },
   "outputs": [
    {
     "name": "stdout",
     "output_type": "stream",
     "text": [
      "usage: sos run LDSC_Code.ipynb [workflow_name | -t targets] [options] [workflow_options]\n",
      "  workflow_name:        Single or combined workflows defined in this script\n",
      "  targets:              One or more targets to generate\n",
      "  options:              Single-hyphen sos parameters (see \"sos run -h\" for details)\n",
      "  workflow_options:     Double-hyphen workflow-specific parameters\n",
      "\n",
      "Workflows:\n",
      "  make_annot\n",
      "  munge_sumstats_no_sign\n",
      "  munge_sumstats_sign\n",
      "  calc_ld_score\n",
      "  convert_ld_snps\n",
      "  calc_enrichment\n",
      "\n",
      "Sections\n",
      "  make_annot:\n",
      "    Workflow Options:\n",
      "      --bed VAL (as str, required)\n",
      "                        path to bed file\n",
      "      --bim VAL (as str, required)\n",
      "                        path to bim file\n",
      "      --annot VAL (as str, required)\n",
      "                        name of output annotation file\n",
      "  munge_sumstats_no_sign:\n",
      "    Workflow Options:\n",
      "      --sumst VAL (as str, required)\n",
      "                        path to summary statistic file\n",
      "      --alleles 'w_hm3.snplist'\n",
      "                        path to Hapmap3 SNPs file, keep all columns (SNP, A1,\n",
      "                        and A2) for the munge_sumstats program\n",
      "      --output-sumst VAL (as str, required)\n",
      "                        path to output file\n",
      "      --[no-]signed (default to False)\n",
      "                        does summary statistic contain Z or Beta\n",
      "  munge_sumstats_sign:  This option is for when the summary statistic file does\n",
      "                        contain a signed summary statistic (Z or Beta)\n",
      "    Workflow Options:\n",
      "      --sumst VAL (as str, required)\n",
      "                        path to summary statistic file\n",
      "      --alleles 'w_hm3.snplist'\n",
      "                        path to Hapmap3 SNPs file, keep all columns (SNP, A1,\n",
      "                        and A2) for the munge_sumstats program\n",
      "      --output-sumst-2 VAL (as str, required)\n",
      "                        path to output file\n",
      "      --[no-]signed (default to False)\n",
      "                        does summary statistic contain Z or Beta\n",
      "  calc_ld_score:\n",
      "    Workflow Options:\n",
      "      --bim . (as path)\n",
      "                        Path to directory with bim files\n",
      "      --annot-files . (as path)\n",
      "                        Path to directory with annotation files, output will\n",
      "                        appear here too. Make sure to remove the SNP, CHR, and\n",
      "                        BP columns from the annotation files if present before\n",
      "                        running.\n",
      "      --num-features VAL (as int, required)\n",
      "                        number of features\n",
      "  convert_ld_snps:\n",
      "    Workflow Options:\n",
      "      --ld-scores VAL (as str, required)\n",
      "                        Path to directory with ld score files AND annotation\n",
      "                        files\n",
      "      --num-features VAL (as int, required)\n",
      "  calc_enrichment:\n",
      "    Workflow Options:\n",
      "      --ctrl-sumstats VAL (as str, required)\n",
      "                        Path to Control Summary statistics File\n",
      "      --AD-sumstats VAL (as str, required)\n",
      "                        Path to AD Summary statistics File\n",
      "      --ref-ld VAL (as str, required)\n",
      "                        Path to Reference LD Scores File Directory\n",
      "      --w-ld-ctrl VAL (as str, required)\n",
      "                        Path to LD Weight Files for Control Sumstats (Format\n",
      "                        like minimal working example)\n",
      "      --frq-file-ctrl VAL (as str, required)\n",
      "                        path to frequency files for Control Sumstats (Format\n",
      "                        like minimal working example)\n",
      "      --w-ld-AD VAL (as str, required)\n",
      "                        Path to LD Weight Files for AD Sumstats (Format like\n",
      "                        minimal working example)\n",
      "      --frq-file-AD VAL (as str, required)\n",
      "                        path to frequency files for AD Sumstats (Format like\n",
      "                        minimal working example)\n",
      "      --num-features VAL (as int, required)\n",
      "                        Number of Features\n",
      "      --pheno VAL (as str, required)\n",
      "                        Control Phenotype, For Output\n"
     ]
    }
   ],
   "source": [
    "!sos run LDSC_Code.ipynb -h"
   ]
  },
  {
   "cell_type": "markdown",
   "metadata": {
    "kernel": "Python 3 (ipykernel)"
   },
   "source": [
    "## Make Annotation File:"
   ]
  },
  {
   "cell_type": "code",
   "execution_count": 93,
   "metadata": {
    "kernel": "SoS"
   },
   "outputs": [],
   "source": [
    "\n",
    "[make_annot]\n",
    "\n",
    "# Make Annotated Bed File\n",
    "\n",
    "# path to bed file\n",
    "parameter: bed = str \n",
    "#path to bim file\n",
    "parameter: bim = str\n",
    "#name of output annotation file\n",
    "parameter: annot = str\n",
    "bash: \n",
    "    python2 /mnt/mfs/statgen/Anmol/ldsc/make_annot.py --bed-file {bed} --bimfile {bim} --annot-file {annot}"
   ]
  },
  {
   "cell_type": "markdown",
   "metadata": {
    "kernel": "SoS"
   },
   "source": [
    "## Munge Summary Statistics (Option 1: No Signed Summary Statistic File)"
   ]
  },
  {
   "cell_type": "code",
   "execution_count": null,
   "metadata": {
    "kernel": "SoS"
   },
   "outputs": [],
   "source": [
    "# Option when Summary Statistic File does not contain a Z or Beta Column (Signed Summary Statistic)\n",
    "\n",
    "[munge_sumstats_no_sign]\n",
    "\n",
    "\n",
    "\n",
    "#path to summary statistic file\n",
    "parameter: sumst = str\n",
    "#path to Hapmap3 SNPs file, keep all columns (SNP, A1, and A2) for the munge_sumstats program\n",
    "parameter: alleles = \"w_hm3.snplist\"\n",
    "#path to output file\n",
    "parameter: output_sumst = str\n",
    "#does summary statistic contain Z or Beta\n",
    "parameter: signed = False\n",
    "\n",
    "bash: expand = '${ }'\n",
    "   if [${signed}==True]\n",
    "       then\n",
    "           python2 /mnt/mfs/statgen/Anmol/ldsc/munge_sumstats.py --sumstats ${sumst} --merge-alleles ${alleles} --out ${output_sumst} --a1-inc\n",
    "       fi"
   ]
  },
  {
   "cell_type": "markdown",
   "metadata": {
    "kernel": "SoS"
   },
   "source": [
    "## Munge Summary Statistics (Option 2: Signed Summary Statistic File)"
   ]
  },
  {
   "cell_type": "code",
   "execution_count": null,
   "metadata": {
    "kernel": "SoS"
   },
   "outputs": [],
   "source": [
    "# This option is for when the summary statistic file does contain a signed summary statistic (Z or Beta)\n",
    "[munge_sumstats_sign]\n",
    "\n",
    "\n",
    "\n",
    "#path to summary statistic file\n",
    "parameter: sumst = str\n",
    "#path to Hapmap3 SNPs file, keep all columns (SNP, A1, and A2) for the munge_sumstats program\n",
    "parameter: alleles = \"w_hm3.snplist\"\n",
    "#path to output file\n",
    "parameter: output_sumst_2 = str\n",
    "#does summary statistic contain Z or Beta\n",
    "parameter: signed = False\n",
    "\n",
    "bash: expand = '${ }'\n",
    "    if [${signed}==False]\n",
    "        then\n",
    "            python2 /mnt/mfs/statgen/Anmol/ldsc/munge_sumstats.py --sumstats ${sumst} --merge-alleles ${alleles} --out ${output_sumst_2}\n",
    "        fi"
   ]
  },
  {
   "cell_type": "markdown",
   "metadata": {
    "kernel": "SoS"
   },
   "source": [
    "## Calculate LD Scores"
   ]
  },
  {
   "cell_type": "code",
   "execution_count": null,
   "metadata": {
    "kernel": "SoS"
   },
   "outputs": [],
   "source": [
    "[calc_ld_score]\n",
    "\n",
    "#Path to directory with bim files\n",
    "parameter: bim = path()\n",
    "#Path to directory with annotation files, output will appear here too. Make sure to remove the SNP, CHR, and BP columns from the annotation files if present before running.\n",
    "parameter: annot_files = path()\n",
    "#number of features\n",
    "parameter: num_features = int\n",
    "\n",
    "bash: expand = '${ }'\n",
    "   #echo {annot_files} > out.txt\n",
    "   seq 1 ${num_features}| xargs -n 1 -I j -P 4 python2 /mnt/mfs/statgen/Anmol/ldsc/ldsc.py --bfile ${bim}/1000G.EUR.QC.22 --l2 --ld-wind-cm 1 --annot ${annot_files}/feat_j_chr_22.annot.gz --thin-annot --out ${annot_files}/feat_j_chr_22 --print-snps /mnt/mfs/statgen/Anmol/ldsc/tutorial_data/w_hm3.snplist/snplist.txt\n",
    "   seq 1 22| xargs -n 1 -I j -P 4 python2 /mnt/mfs/statgen/Anmol/ldsc/ldsc.py --bfile ${bim}/1000G.EUR.QC.j --l2 --ld-wind-cm 1 --annot ${annot_files}/base_chr_j.annot.gz --thin-annot --out ${annot_files}/base_chr_j --print-snps /mnt/mfs/statgen/Anmol/ldsc/tutorial_data/w_hm3.snplist/snplist.txt"
   ]
  },
  {
   "cell_type": "markdown",
   "metadata": {
    "kernel": "SoS"
   },
   "source": [
    "## Create Separate LD Score Files for AD Summary Statistic SNP Format"
   ]
  },
  {
   "cell_type": "code",
   "execution_count": null,
   "metadata": {
    "kernel": "SoS"
   },
   "outputs": [],
   "source": [
    "# Convert SNP format in LD Score Files to CHR:BP to match with AD Summary Statistic Format\n",
    "\n",
    "\n",
    "[convert_ld_snps]\n",
    "\n",
    "#Path to directory with ld score files AND annotation files\n",
    "parameter: ld_scores = str\n",
    "\n",
    "parameter: num_features = int\n",
    "\n",
    "\n",
    "R: expand = \"${ }\", container=\"/mnt/mfs/statgen/Anmol/r-packages.sif\"\n",
    "    library(tidyverse)\n",
    "    #library(R.utils)\n",
    "    library(data.table)\n",
    "    for (i in seq(1,22)){\n",
    "      data = read.table(gzfile(paste0(\"${ld_scores}/base_chr_\",i,\".l2.ldscore.gz\")),header=T)\n",
    "      data_2 = fread(paste0(\"${ld_scores}/base_chr_\",i,\".l2.M_5_50\"))\n",
    "      data_3 = read.table(gzfile(paste0(\"${ld_scores}/base_chr_\",i,\".annot.gz\")),header=T)\n",
    "      data$SNP = paste0(data$CHR,\":\",data$BP)\n",
    "      fwrite(data,paste0(\"${ld_scores}/AD_base_chr_\",i,\".l2.ldscore.gz\"),quote=F,sep=\"\\t\",row.names=F,col.names=T)\n",
    "      fwrite(data_2,paste0(\"${ld_scores}/AD_base_chr_\",i,\".l2.M_5_50\"),quote=F,sep=\"\\t\",row.names=F,col.names=F)\n",
    "      fwrite(data_3,paste0(\"${ld_scores}/AD_base_chr_\",i,\".annot.gz\"),quote=F,sep=\"\\t\",row.names=F,col.names=T)\n",
    "      for (j in seq(1,${num_features})){\n",
    "      data = read.table(gzfile(paste0(\"${ld_scores}/feat_\",j,\"_chr_\",i,\".l2.ldscore.gz\")),header=T)\n",
    "      data_2 = fread(paste0(\"${ld_scores}/feat_\",j,\"_chr_\",i,\".l2.M_5_50\"))\n",
    "      data_3 = read.table(gzfile(paste0(\"${ld_scores}/feat_\",j,\"_chr_\",i,\".annot.gz\")),header=T)\n",
    "      data$SNP = paste0(data$CHR,\":\",data$BP)\n",
    "      fwrite(data,paste0(\"${ld_scores}/AD_feat_\",j,\"_chr_\",i,\".l2.ldscore.gz\"),quote=F,sep=\"\\t\",row.names=F,col.names=T)\n",
    "      fwrite(data_2,paste0(\"${ld_scores}/AD_feat_\",j,\"_chr_\",i,\".l2.M_5_50\"),quote=F,sep=\"\\t\",row.names=F,col.names=F)\n",
    "      fwrite(data_3,paste0(\"${ld_scores}/AD_feat_\",j,\"_chr_\",i,\".annot.gz\"),quote=F,sep=\"\\t\",row.names=F,col.names=T)\n",
    "    }\n",
    "    }\n",
    "  \n"
   ]
  },
  {
   "cell_type": "markdown",
   "metadata": {
    "kernel": "SoS"
   },
   "source": [
    "## Calculate Enrichments"
   ]
  },
  {
   "cell_type": "code",
   "execution_count": null,
   "metadata": {
    "kernel": "SoS"
   },
   "outputs": [],
   "source": [
    "[calc_enrichment]\n",
    "\n",
    "#Path to Control Summary statistics File\n",
    "parameter: ctrl_sumstats = str\n",
    "#Path to AD Summary statistics File\n",
    "parameter: AD_sumstats = str\n",
    "#Path to Reference LD Scores File Directory \n",
    "parameter: ref_ld = str\n",
    "#Path to LD Weight Files for Control Sumstats (Format like minimal working example)\n",
    "parameter: w_ld_ctrl = str\n",
    "#path to frequency files for Control Sumstats (Format like minimal working example)\n",
    "parameter: frq_file_ctrl = str\n",
    "#Path to LD Weight Files for AD Sumstats (Format like minimal working example)\n",
    "parameter: w_ld_AD = str\n",
    "#path to frequency files for AD Sumstats (Format like minimal working example)\n",
    "parameter: frq_file_AD = str\n",
    "#Number of Features\n",
    "parameter: num_features = int \n",
    "#Control Phenotype, For Output\n",
    "parameter: pheno = str\n",
    "\n",
    "bash: expand = '${ }'\n",
    "    seq 1 ${num_features}| xargs -n 1 -I j -P 4 python2 /mnt/mfs/statgen/Anmol/ldsc/ldsc.py --h2 ${ctrl_sumstats} --ref-ld-chr ${ref_ld}/base_chr_,${ref_ld}/feat_j_chr_ --w-ld-chr ${w_ld_ctrl} --overlap-annot --frqfile-chr ${frq_file_ctrl} --out ${ref_ld}/${pheno}_feat_j\n",
    "    seq 1 ${num_features}| xargs -n 1 -I j -P 4 python2 /mnt/mfs/statgen/Anmol/ldsc/ldsc.py --h2 ${AD_sumstats} --ref-ld-chr ${ref_ld}/AD_base_chr_,${ref_ld}/AD_feat_j_chr_ --w-ld-chr ${w_ld_AD} --overlap-annot --frqfile-chr ${frq_file_AD} --out ${ref_ld}/AD_feat_j"
   ]
  }
 ],
 "metadata": {
  "kernelspec": {
   "display_name": "SoS",
   "language": "sos",
   "name": "sos"
  },
  "language_info": {
   "codemirror_mode": "sos",
   "file_extension": ".sos",
   "mimetype": "text/x-sos",
   "name": "sos",
   "nbconvert_exporter": "sos_notebook.converter.SoS_Exporter",
   "pygments_lexer": "sos"
  },
  "sos": {
   "kernels": [
    [
     "Python 3 (ipykernel)",
     "python3",
     "python3",
     "",
     {
      "name": "ipython",
      "version": 3
     }
    ],
    [
     "SoS",
     "sos",
     "",
     "",
     "sos"
    ]
   ],
   "panel": {
    "displayed": true,
    "height": 0
   },
   "version": "0.22.9"
  }
 },
 "nbformat": 4,
 "nbformat_minor": 4
}
