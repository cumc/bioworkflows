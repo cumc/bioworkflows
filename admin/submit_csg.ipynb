{
 "cells": [
  {
   "cell_type": "markdown",
   "metadata": {
    "kernel": "SoS"
   },
   "source": [
    "# A utility workflow to submit jobs to CSG nodes\n",
    "\n",
    "This notebook provides a short-cut to submit bash scripts to CSG computing nodes."
   ]
  },
  {
   "cell_type": "markdown",
   "metadata": {
    "kernel": "SoS"
   },
   "source": [
    "\n",
    "Suppose we would like to submit these lines of commands to the cluster:\n",
    "\n",
    "```\n",
    "sos run gatk_joint_calling.ipynb call \\\n",
    "    --container-option /mnt/mfs/statgen/containers/gatk4-annovar.sif \\\n",
    "    --vcf-prefix output/minimal_example \\\n",
    "    --samples /mnt/mfs/statgen/data_private/gatk_joint_call_example/20200820_sample_manifest.txt \\\n",
    "    --samples-dir /mnt/mfs/statgen/data_private/gatk_joint_call_example/ \\\n",
    "    --ref-genome /mnt/mfs/statgen/isabelle/REF/refs/Homo_sapiens.GRCh37.75.dna_sm.primary_assembly.fa\\\n",
    "    --cwd output/ \\ \n",
    "    --variant_filter 'strict'\n",
    "\n",
    "sos run gatk_joint_calling.ipynb strict_filter \\\n",
    "    --vcf-prefix output/minimal_example \\\n",
    "    --cwd output/ \\\n",
    "    --variant_filter 'strict'\n",
    "    \n",
    "sos run gatk_joint_calling.ipynb basic_filter \\\n",
    "    --vcf-prefix output/minimal_example \\\n",
    "    --cwd output/ \\\n",
    "    --variant_filter 'basic'\n",
    "\n",
    "sos run gatk_joint_calling.ipynb vcf_qc \\\n",
    "    --vcf-prefix output/minimal_example \\\n",
    "    --cwd output/ \\\n",
    "    --variant_filter 'basic'\n",
    "    \n",
    "    \n",
    "```\n",
    "\n",
    "First, we save the above lines to a text file, e.g. call it `analysis_commands_20200825.txt`, then use the following workflow steps to allocate resources and submit the jobs.\n",
    "\n",
    "Example to submit a job:\n",
    "\n",
    "```\n",
    "sos run submit_csg.ipynb submit_csg \\\n",
    "    --cmd_file command_1027.txt     \n",
    "sos run submit_csg.ipynb submit_csg \\\n",
    "    --cmd_file ~/gatk_joint_calling/command_1027.txt \n",
    "```\n",
    "\n",
    "\n",
    "If you want to run in a dryrun mode, meaning just simply test the process but do not genrate results\n",
    "```\n",
    "sos run submit_csg.ipynb submit_csg \\\n",
    "    --cmd_file analysis_commands_20200825.txt \\\n",
    "    --dryrun\n",
    "```"
   ]
  },
  {
   "cell_type": "code",
   "execution_count": null,
   "metadata": {
    "kernel": "SoS"
   },
   "outputs": [],
   "source": [
    "# Job submission on CSG cluster\n",
    "[submit_csg]\n",
    "# Path to job file\n",
    "parameter: cmd_file=path\n",
    "# Total run time allocated to the script\n",
    "parameter: time='36:00:00'\n",
    "# Memory allocated to a job, in terms of Gigabyte\n",
    "parameter: mem=12\n",
    "parameter: dryrun = False\n",
    "input: cmd_file\n",
    "python3: expand = '$[ ]'\n",
    "    tpl = '''\n",
    "    #!/bin/sh\n",
    "    #$ -l h_rt=$[time]\n",
    "    #$ -l h_vmem=$[mem+6]G\n",
    "    #$ -N gatk_joint_call\n",
    "    #$ -cwd\n",
    "    #$ -j y\n",
    "    #$ -S /bin/bash\n",
    "    module load Singularity\n",
    "    module load VCFTOOLS/0.1.17\n",
    "    module load Plink/1.9.10 \n",
    "    export PATH=$HOME/miniconda3/bin:$PATH\n",
    "    set -e\n",
    "    '''\n",
    "    script = tpl.lstrip() + ''.join(open($[_input:r]).readlines())\n",
    "    exe = 'cat' if $[dryrun] else 'qsub'\n",
    "    from subprocess import Popen, PIPE\n",
    "    import sys\n",
    "    p = Popen(exe, shell = False, stdin = PIPE, stdout = PIPE, stderr = PIPE, close_fds = True)\n",
    "    for item in p.communicate(script.encode(sys.getdefaultencoding())):\n",
    "        output = item.decode(sys.getdefaultencoding()).rstrip()\n",
    "        if output:\n",
    "            print(output)"
   ]
  }
 ],
 "metadata": {
  "kernelspec": {
   "display_name": "SoS",
   "language": "sos",
   "name": "sos"
  },
  "language_info": {
   "codemirror_mode": "sos",
   "file_extension": ".sos",
   "mimetype": "text/x-sos",
   "name": "sos",
   "nbconvert_exporter": "sos_notebook.converter.SoS_Exporter",
   "pygments_lexer": "sos"
  },
  "sos": {
   "default_kernel": "SoS",
   "kernels": [
    [
     "Bash",
     "bash",
     "Bash",
     "#E6EEFF",
     ""
    ],
    [
     "SoS",
     "sos",
     "",
     "",
     "sos"
    ]
   ],
   "panel": {
    "displayed": true,
    "height": 0,
    "style": "side"
   },
   "version": "0.24.1"
  }
 },
 "nbformat": 4,
 "nbformat_minor": 4
}
