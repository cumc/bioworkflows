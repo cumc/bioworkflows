{
 "cells": [
  {
   "cell_type": "markdown",
   "id": "theoretical-grounds",
   "metadata": {
    "kernel": "Bash"
   },
   "source": [
    "# HDL in MVP\n",
    "\n",
    "## Reference panel\n",
    "\n",
    "`download_1000G()` in `bigsnpr`\n",
    "\n",
    "Including 2490 (mostly unrelated) individuals and ~1.7M SNPs in common with either HapMap3 or the UK Biobank.\n",
    "\n",
    "## Base data: summary Statistics from MVP\n",
    "\n",
    "Posterior betas for traits HDL.\n",
    "\n",
    "## Target data: UK biobank\n",
    "\n",
    "covariates, phenotype related to HDL and genotypes of 2000 individuals.\n",
    "\n",
    "## Model\n",
    "\n",
    "The model I used to estimate effect size is auto mdoel. It runs the algorithm for 30 different p (the proportion of causal variants) values range from 10e-4 to 0.9, and heritability from LD score regression as initial value.\n",
    "\n"
   ]
  },
  {
   "cell_type": "markdown",
   "id": "missing-disaster",
   "metadata": {
    "kernel": "R"
   },
   "source": [
    "## Some codes might be useful for data preparation\n",
    "\n",
    "Codes for extrat snplist from summary statistics\n",
    "\n",
    "```\n",
    "sumstats <- readRDS(\"mvpdata/pos_sumstats_hdl.rds\")\n",
    "write.table(sumstats$rsid, file = \"mvpdata/pos_sumstats_hdl.snplist\", sep = \" \",\n",
    "    row.names = FALSE, col.names = FALSE, quote=FALSE)\n",
    "```"
   ]
  },
  {
   "cell_type": "markdown",
   "id": "editorial-tenant",
   "metadata": {
    "kernel": "Bash"
   },
   "source": [
    "## Step 1: common snps"
   ]
  },
  {
   "cell_type": "code",
   "execution_count": 16,
   "id": "thousand-ballot",
   "metadata": {
    "kernel": "Bash"
   },
   "outputs": [
    {
     "name": "stdout",
     "output_type": "stream",
     "text": [
      "INFO: Running \u001b[32mcommon_snp\u001b[0m: 2004l\u001b[?2004l\u001b[?2004l\u001b[?2004l\u001b[?2004l\u001b[?2004l\u001b[?2004l\n",
      "INFO: \u001b[32mcommon_snp\u001b[0m (index=0) is \u001b[32mignored\u001b[0m due to saved signature\n",
      "INFO: \u001b[32mcommon_snp\u001b[0m output:   \u001b[32mmvpdata/pos_sumstats_hdl.SUB.rds mvpdata/common.snplist... (4 items)\u001b[0m\n",
      "INFO: Workflow common_snp (ID=w858c37480708ebb0) is ignored with 1 ignored step.\n",
      "\u001b[?2004h"
     ]
    },
    {
     "ename": "",
     "evalue": "1",
     "output_type": "error",
     "traceback": []
    }
   ],
   "source": [
    "sos run ldpred.ipynb common_snp \\\n",
    "    --outpath res-data \\\n",
    "    --testpath ukbiobank \\\n",
    "    --stat_snp mvpdata/pos_sumstats_hdl.snplist \\\n",
    "    --ref_snp 1000G/1000G.QC.snplist \\\n",
    "    --test_snp ukbiobank/UKB.TMP.snplist \\\n",
    "    --summstats_file mvpdata/pos_sumstats_hdl.rds \\\n",
    "    --sub_stats mvpdata/pos_sumstats_hdl.SUB.rds \\\n",
    "    --stats_comsnp mvpdata/common.snplist \\\n",
    "    --test_comsnp ukbiobank/common.snplist \\\n",
    "    --ref_comsnp 1000G/common.snplist"
   ]
  },
  {
   "cell_type": "markdown",
   "id": "normal-position",
   "metadata": {
    "kernel": "Bash"
   },
   "source": [
    "## Step 2: subsetting reference panel"
   ]
  },
  {
   "cell_type": "code",
   "execution_count": 4,
   "id": "restricted-victory",
   "metadata": {
    "kernel": "Bash"
   },
   "outputs": [
    {
     "name": "stdout",
     "output_type": "stream",
     "text": [
      "INFO: Running \u001b[32msubsets\u001b[0m: \u001b[?2004l\n",
      "INFO: \u001b[32msubsets\u001b[0m (index=0) is \u001b[32mignored\u001b[0m due to saved signature\n",
      "INFO: \u001b[32msubsets\u001b[0m output:   \u001b[32m1000G/1000G.SUB.bed 1000G/1000G.SUB.bim... (3 items)\u001b[0m\n",
      "INFO: Workflow subsets (ID=wc3f510c0cb7ea1e6) is ignored with 1 ignored step.\n",
      "\u001b[?2004h"
     ]
    },
    {
     "ename": "",
     "evalue": "1",
     "output_type": "error",
     "traceback": []
    }
   ],
   "source": [
    "sos run ldpred.ipynb subsets \\\n",
    "    --outpath res-data \\\n",
    "    --testpath ukbiobank \\\n",
    "    --bed_file 1000G/1000G.bed \\\n",
    "    --fam_file 1000G/1000G.QC.fam \\\n",
    "    --snp_file 1000G/common.snplist \\\n",
    "    --sub_bedfile 1000G/1000G.SUB.bed"
   ]
  },
  {
   "cell_type": "markdown",
   "id": "likely-cartoon",
   "metadata": {
    "kernel": "Bash"
   },
   "source": [
    "Totally 31566 varients"
   ]
  },
  {
   "cell_type": "markdown",
   "id": "mediterranean-story",
   "metadata": {
    "kernel": "Bash"
   },
   "source": [
    "    ./plink \\\n",
    "        --bfile 1000G/1000G \\\n",
    "        --keep 1000G/1000G.QC.fam \\\n",
    "        --extract 1000G/common.snplist \\\n",
    "        --make-bed \\\n",
    "        --out 1000G/1000G.SUB\n"
   ]
  },
  {
   "cell_type": "markdown",
   "id": "illegal-plymouth",
   "metadata": {
    "kernel": "Bash"
   },
   "source": [
    "## Step 3: SNP Matching\n"
   ]
  },
  {
   "cell_type": "code",
   "execution_count": 5,
   "id": "visible-wisconsin",
   "metadata": {
    "kernel": "Bash"
   },
   "outputs": [
    {
     "name": "stdout",
     "output_type": "stream",
     "text": [
      "INFO: Running \u001b[32mdata_load_10\u001b[0m: 04l\u001b[?2004l\u001b[?2004l\u001b[?2004l\n",
      "During startup - Warning messages:\n",
      "1: Setting LC_COLLATE failed, using \"C\" \n",
      "2: Setting LC_TIME failed, using \"C\" \n",
      "3: Setting LC_MESSAGES failed, using \"C\" \n",
      "4: Setting LC_MONETARY failed, using \"C\" \n",
      "Loading required package: bigstatsr\n",
      "Error : File '1000G/1000G.SUB.bk' already exists.\n",
      "INFO: \u001b[32mdata_load_10\u001b[0m is \u001b[32mcompleted\u001b[0m.\n",
      "INFO: Running \u001b[32mdata_load_20\u001b[0m: \n",
      "During startup - Warning messages:\n",
      "1: Setting LC_COLLATE failed, using \"C\" \n",
      "2: Setting LC_TIME failed, using \"C\" \n",
      "3: Setting LC_MESSAGES failed, using \"C\" \n",
      "4: Setting LC_MONETARY failed, using \"C\" \n",
      "INFO: \u001b[32mdata_load_20\u001b[0m is \u001b[32mcompleted\u001b[0m.\n",
      "INFO: \u001b[32mdata_load_20\u001b[0m output:   \u001b[32mres-data/SumStats.RData\u001b[0m\n",
      "INFO: Running \u001b[32mdata_load_30\u001b[0m: \n",
      "During startup - Warning messages:\n",
      "1: Setting LC_COLLATE failed, using \"C\" \n",
      "2: Setting LC_TIME failed, using \"C\" \n",
      "3: Setting LC_MESSAGES failed, using \"C\" \n",
      "4: Setting LC_MONETARY failed, using \"C\" \n",
      "Loading required package: bigstatsr\n",
      "31,566 variants to be matched.\n",
      "1,134 ambiguous SNPs have been removed.\n",
      "30,432 variants have been matched; 0 were flipped and 19,529 were reversed.\n",
      "INFO: \u001b[32mdata_load_30\u001b[0m is \u001b[32mcompleted\u001b[0m.\n",
      "INFO: \u001b[32mdata_load_30\u001b[0m output:   \u001b[32mres-data/MatchedSnp.RData ukbiobank/UKB.SUB.snplist\u001b[0m\n",
      "INFO: Workflow data_load (ID=wdf2707eb34779924) is executed successfully with 3 completed steps.\n",
      "\u001b[?2004h"
     ]
    },
    {
     "ename": "",
     "evalue": "1",
     "output_type": "error",
     "traceback": []
    }
   ],
   "source": [
    "sos run ldpred.ipynb data_load \\\n",
    "    --ref_bfile 1000G/1000G.SUB.bed \\\n",
    "    --summstats_file mvpdata/pos_sumstats_hdl.SUB.rds \\\n",
    "    --n_eff 200000 \\\n",
    "    --ref_file 1000G/1000G.SUB.rds \\\n",
    "    --test_snplist UKB.SUB.snplist \\\n",
    "    --outpath res-data \\\n",
    "    --testpath ukbiobank"
   ]
  },
  {
   "cell_type": "markdown",
   "id": "attended-stopping",
   "metadata": {
    "kernel": "Bash"
   },
   "source": [
    "## Step 4: Quality control (or do not)"
   ]
  },
  {
   "cell_type": "code",
   "execution_count": 9,
   "id": "legitimate-moral",
   "metadata": {
    "kernel": "Bash"
   },
   "outputs": [
    {
     "name": "stdout",
     "output_type": "stream",
     "text": [
      "INFO: Running \u001b[32mQControl\u001b[0m: \n",
      "During startup - Warning messages:\n",
      "1: Setting LC_COLLATE failed, using \"C\" \n",
      "2: Setting LC_TIME failed, using \"C\" \n",
      "3: Setting LC_MESSAGES failed, using \"C\" \n",
      "4: Setting LC_MONETARY failed, using \"C\" \n",
      "Loading required package: bigstatsr\n",
      "During startup - Warning messages:\n",
      "1: Setting LC_COLLATE failed, using \"C\" \n",
      "2: Setting LC_TIME failed, using \"C\" \n",
      "3: Setting LC_MESSAGES failed, using \"C\" \n",
      "4: Setting LC_MONETARY failed, using \"C\" \n",
      "During startup - Warning messages:\n",
      "1: Setting LC_COLLATE failed, using \"C\" \n",
      "2: Setting LC_TIME failed, using \"C\" \n",
      "3: Setting LC_MESSAGES failed, using \"C\" \n",
      "4: Setting LC_MONETARY failed, using \"C\" \n",
      "During startup - Warning messages:\n",
      "1: Setting LC_COLLATE failed, using \"C\" \n",
      "2: Setting LC_TIME failed, using \"C\" \n",
      "3: Setting LC_MESSAGES failed, using \"C\" \n",
      "4: Setting LC_MONETARY failed, using \"C\" \n",
      "   user  system elapsed \n",
      "  0.054   0.010   2.790 \n",
      "Saving 7 x 7 in image\n",
      "[1] \"30376 over 30432 were removed in Quality Control.\"\n",
      "INFO: \u001b[32mQControl\u001b[0m is \u001b[32mcompleted\u001b[0m.\n",
      "INFO: \u001b[32mQControl\u001b[0m output:   \u001b[32mres-data/sd.rds res-data/QCMatchedSnp.RData... (4 items)\u001b[0m\n",
      "INFO: Workflow QControl (ID=w01fa80352d955614) is executed successfully with 1 completed step.\n",
      "\u001b[?2004h"
     ]
    },
    {
     "ename": "",
     "evalue": "1",
     "output_type": "error",
     "traceback": []
    }
   ],
   "source": [
    "sos run ldpred.ipynb QControl \\\n",
    "    --qc_in res-data/MatchedSnp.RData \\\n",
    "    --outpath res-data \\\n",
    "    --testpath ukbiobank"
   ]
  },
  {
   "cell_type": "markdown",
   "id": "solid-williams",
   "metadata": {
    "kernel": "Bash"
   },
   "source": [
    "## Step 5: subsetting test data"
   ]
  },
  {
   "cell_type": "code",
   "execution_count": 11,
   "id": "secure-rogers",
   "metadata": {
    "kernel": "Bash"
   },
   "outputs": [
    {
     "name": "stdout",
     "output_type": "stream",
     "text": [
      "INFO: Running \u001b[32msubsets\u001b[0m: \u001b[?2004l\u001b[?2004l\u001b[?2004l\n",
      "PLINK v1.90b6.22 64-bit (16 Apr 2021)          www.cog-genomics.org/plink/1.9/\n",
      "(C) 2005-2021 Shaun Purcell, Christopher Chang   GNU General Public License v3\n",
      "Logging to ukbiobank/UKB.SUB.log.\n",
      "Options in effect:\n",
      "  --bfile ukbiobank/UKB.QC\n",
      "  --extract ukbiobank/UKB.SUB.snplist\n",
      "  --keep ukbiobank/UKB.QC.fam\n",
      "  --make-bed\n",
      "  --out ukbiobank/UKB.SUB\n",
      "\n",
      "8192 MB RAM detected; reserving 4096 MB for main workspace.\n",
      "47605 variants loaded from .bim file.\n",
      "2000 people (1085 males, 915 females) loaded from .fam.\n",
      "--extract: 30432 variants remaining.\n",
      "--keep: 2000 people remaining.\n",
      "Using 1 thread (no multithreaded calculations invoked).\n",
      "Before main variant filters, 2000 founders and 0 nonfounders present.\n",
      "Calculating allele frequencies... 10111213141516171819202122232425262728293031323334353637383940414243444546474849505152535455565758596061626364656667686970717273747576777879808182838485868788899091929394959697989 done.\n",
      "30432 variants and 2000 people pass filters and QC.\n",
      "Note: No phenotypes present.\n",
      "--make-bed to ukbiobank/UKB.SUB.bed + ukbiobank/UKB.SUB.bim +\n",
      "ukbiobank/UKB.SUB.fam ... 101112131415161718192021222324252627282930313233343536373839404142434445464748495051525354555657585960616263646566676869707172737475767778798081828384858687888990919293949596979899done.\n",
      "INFO: \u001b[32msubsets\u001b[0m is \u001b[32mcompleted\u001b[0m.\n",
      "INFO: \u001b[32msubsets\u001b[0m output:   \u001b[32mukbiobank/UKB.SUB.bed ukbiobank/UKB.SUB.bim... (3 items)\u001b[0m\n",
      "INFO: Workflow subsets (ID=w93b03183e278b344) is executed successfully with 1 completed step.\n",
      "\u001b[?2004h"
     ]
    },
    {
     "ename": "",
     "evalue": "1",
     "output_type": "error",
     "traceback": []
    }
   ],
   "source": [
    "sos run ldpred.ipynb subsets \\\n",
    "    --outpath res-data \\\n",
    "    --testpath ukbiobank \\\n",
    "    --bed_file ukbiobank/UKB.QC.bed \\\n",
    "    --fam_file ukbiobank/UKB.QC.fam \\\n",
    "    --snp_file ukbiobank/UKB.SUB.snplist \\\n",
    "    --sub_bedfile ukbiobank/UKB.SUB.bed"
   ]
  },
  {
   "cell_type": "markdown",
   "id": "european-scene",
   "metadata": {
    "kernel": "Bash"
   },
   "source": [
    "Equivalent PLUNK code:\n",
    "```\n",
    "cd ukbiobank\n",
    "./plink \\\n",
    "    --bfile UKB.QC \\\n",
    "    --extract UKB.SUB.snplist \\\n",
    "    --make-bed \\\n",
    "    --out UKB.SUB\n",
    "cd ..\n",
    "```"
   ]
  },
  {
   "cell_type": "markdown",
   "id": "multiple-account",
   "metadata": {
    "kernel": "Bash"
   },
   "source": [
    "## Step 6: Calculate LD matrix and correlation"
   ]
  },
  {
   "cell_type": "code",
   "execution_count": 13,
   "id": "verified-binding",
   "metadata": {
    "kernel": "Bash"
   },
   "outputs": [
    {
     "name": "stdout",
     "output_type": "stream",
     "text": [
      "INFO: Running \u001b[32mLD\u001b[0m: 2004l\n",
      "During startup - Warning messages:\n",
      "1: Setting LC_COLLATE failed, using \"C\" \n",
      "2: Setting LC_TIME failed, using \"C\" \n",
      "3: Setting LC_MESSAGES failed, using \"C\" \n",
      "4: Setting LC_MONETARY failed, using \"C\" \n",
      "Loading required package: bigstatsr\n",
      "During startup - Warning messages:\n",
      "1: Setting LC_COLLATE failed, using \"C\" \n",
      "2: Setting LC_TIME failed, using \"C\" \n",
      "3: Setting LC_MESSAGES failed, using \"C\" \n",
      "4: Setting LC_MONETARY failed, using \"C\" \n",
      "Warning message:\n",
      "In file.remove(paste0(tmp, \".sbk\")) :\n",
      "  cannot remove file './res-data/file1067e5aa21f64.sbk', reason 'No such file or directory'\n",
      "INFO: \u001b[32mLD\u001b[0m is \u001b[32mcompleted\u001b[0m.\n",
      "INFO: \u001b[32mLD\u001b[0m output:   \u001b[32mres-data/LdMatrix.Rdata\u001b[0m\n",
      "INFO: Workflow LD (ID=we860c6f45697626b) is executed successfully with 1 completed step.\n",
      "\u001b[?2004h"
     ]
    },
    {
     "ename": "",
     "evalue": "1",
     "output_type": "error",
     "traceback": []
    }
   ],
   "source": [
    "sos run ldpred.ipynb LD \\\n",
    "    --outpath res-data \\\n",
    "    --testpath ukbiobank \\\n",
    "    --ld_in res-data/MatchedSnp.Rdata"
   ]
  },
  {
   "cell_type": "markdown",
   "id": "killing-editor",
   "metadata": {
    "kernel": "Bash"
   },
   "source": [
    "## Step 7: Estimate posterior effect sizes and PRS"
   ]
  },
  {
   "cell_type": "code",
   "execution_count": 15,
   "id": "equipped-tractor",
   "metadata": {
    "kernel": "Bash"
   },
   "outputs": [
    {
     "name": "stdout",
     "output_type": "stream",
     "text": [
      "INFO: Running \u001b[32mload_testdata\u001b[0m: \n",
      "During startup - Warning messages:\n",
      "1: Setting LC_COLLATE failed, using \"C\" \n",
      "2: Setting LC_TIME failed, using \"C\" \n",
      "3: Setting LC_MESSAGES failed, using \"C\" \n",
      "4: Setting LC_MONETARY failed, using \"C\" \n",
      "Loading required package: bigstatsr\n",
      "[1] \"/Users/zhangmengyu/Documents/bioworkflows/ldpred/ukbiobank/UKB.SUB.rds\"\n",
      "INFO: \u001b[32mload_testdata\u001b[0m is \u001b[32mcompleted\u001b[0m.\n",
      "INFO: Workflow load_testdata (ID=w9d96a61448de1008) is executed successfully with 1 completed step.\n",
      "\u001b[?2004h"
     ]
    },
    {
     "ename": "",
     "evalue": "1",
     "output_type": "error",
     "traceback": []
    }
   ],
   "source": [
    "sos run ldpred.ipynb load_testdata \\\n",
    "    --outpath res-data \\\n",
    "    --testpath ukbiobank \\\n",
    "    --test_bfile ukbiobank/UKB.SUB.bed"
   ]
  },
  {
   "cell_type": "code",
   "execution_count": null,
   "id": "sunrise-memorabilia",
   "metadata": {
    "kernel": "Bash"
   },
   "outputs": [
    {
     "name": "stdout",
     "output_type": "stream",
     "text": [
      "\u001b[?2004h\u001b[?2004l\u001b[?2004l\u001b[?2004l\u001b[?2004l"
     ]
    }
   ],
   "source": [
    "sos run ldpred.ipynb inf_prs \\\n",
    "    --outpath res-data \\\n",
    "    --testpath ukbiobank \\\n",
    "    --inf_in res-data/LdMatrix.Rdata \\\n",
    "    --test_file ukbiobank/UKB.SUB.rds"
   ]
  },
  {
   "cell_type": "code",
   "execution_count": 3,
   "id": "committed-flexibility",
   "metadata": {
    "kernel": "Bash"
   },
   "outputs": [
    {
     "name": "stdout",
     "output_type": "stream",
     "text": [
      "INFO: Running \u001b[32mload_testdata\u001b[0m: 4l\u001b[?2004l\n",
      "During startup - Warning messages:\n",
      "1: Setting LC_COLLATE failed, using \"C\" \n",
      "2: Setting LC_TIME failed, using \"C\" \n",
      "3: Setting LC_MESSAGES failed, using \"C\" \n",
      "4: Setting LC_MONETARY failed, using \"C\" \n",
      "Loading required package: bigstatsr\n",
      "[1] \"/Users/zhangmengyu/Documents/bioworkflows/ldpred/ukbiobank/UKB.SUB.rds\"\n",
      "INFO: \u001b[32mload_testdata\u001b[0m is \u001b[32mcompleted\u001b[0m.\n",
      "INFO: Running \u001b[32minf_prs\u001b[0m: \n",
      "During startup - Warning messages:\n",
      "1: Setting LC_COLLATE failed, using \"C\" \n",
      "2: Setting LC_TIME failed, using \"C\" \n",
      "3: Setting LC_MESSAGES failed, using \"C\" \n",
      "4: Setting LC_MONETARY failed, using \"C\" \n",
      "Loading required package: bigstatsr\n",
      "30,432 variants to be matched.\n",
      "0 ambiguous SNPs have been removed.\n",
      "30,432 variants have been matched; 0 were flipped and 29,999 were reversed.\n",
      "INFO: \u001b[32minf_prs\u001b[0m is \u001b[32mcompleted\u001b[0m.\n",
      "INFO: \u001b[32minf_prs\u001b[0m output:   \u001b[32mres-data/InfPred.Rdata\u001b[0m\n",
      "INFO: Workflow load_testdata+inf_prs (ID=w3d7fec231a0c181f) is executed successfully with 2 completed steps.\n",
      "\u001b[?2004h"
     ]
    },
    {
     "ename": "",
     "evalue": "1",
     "output_type": "error",
     "traceback": []
    }
   ],
   "source": [
    "sos run ldpred.ipynb load_testdata+inf_prs \\\n",
    "    --outpath res-data \\\n",
    "    --testpath ukbiobank \\\n",
    "    --inf_in res-data/LdMatrix.Rdata \\\n",
    "    --test_file ukbiobank/UKB.SUB.rds \\\n",
    "    --test_bfile ukbiobank/UKB.SUB.bed"
   ]
  },
  {
   "cell_type": "code",
   "execution_count": 4,
   "id": "congressional-arcade",
   "metadata": {
    "kernel": "Bash"
   },
   "outputs": [
    {
     "name": "stdout",
     "output_type": "stream",
     "text": [
      "INFO: Running \u001b[32mgrid_prs\u001b[0m: [?2004l\n",
      "During startup - Warning messages:\n",
      "1: Setting LC_COLLATE failed, using \"C\" \n",
      "2: Setting LC_TIME failed, using \"C\" \n",
      "3: Setting LC_MESSAGES failed, using \"C\" \n",
      "4: Setting LC_MONETARY failed, using \"C\" \n",
      "Loading required package: bigstatsr\n",
      "30,432 variants to be matched.\n",
      "0 ambiguous SNPs have been removed.\n",
      "30,432 variants have been matched; 0 were flipped and 29,999 were reversed.\n",
      "During startup - Warning messages:\n",
      "1: Setting LC_COLLATE failed, using \"C\" \n",
      "2: Setting LC_TIME failed, using \"C\" \n",
      "3: Setting LC_MESSAGES failed, using \"C\" \n",
      "4: Setting LC_MONETARY failed, using \"C\" \n",
      "INFO: \u001b[32mgrid_prs\u001b[0m is \u001b[32mcompleted\u001b[0m.\n",
      "INFO: \u001b[32mgrid_prs\u001b[0m output:   \u001b[32mres-data/GridPred.Rdata\u001b[0m\n",
      "INFO: Workflow grid_prs (ID=wcd327e167525fb83) is executed successfully with 1 completed step.\n",
      "\u001b[?2004h"
     ]
    },
    {
     "ename": "",
     "evalue": "1",
     "output_type": "error",
     "traceback": []
    }
   ],
   "source": [
    "sos run ldpred.ipynb grid_prs \\\n",
    "    --outpath res-data \\\n",
    "    --testpath ukbiobank \\\n",
    "    --grid_in res-data/LdMatrix.Rdata \\\n",
    "    --test_file ukbiobank/UKB.SUB.rds"
   ]
  },
  {
   "cell_type": "code",
   "execution_count": 5,
   "id": "brazilian-stage",
   "metadata": {
    "kernel": "Bash"
   },
   "outputs": [
    {
     "name": "stdout",
     "output_type": "stream",
     "text": [
      "INFO: Running \u001b[32mauto_prs\u001b[0m: [?2004l\n",
      "During startup - Warning messages:\n",
      "1: Setting LC_COLLATE failed, using \"C\" \n",
      "2: Setting LC_TIME failed, using \"C\" \n",
      "3: Setting LC_MESSAGES failed, using \"C\" \n",
      "4: Setting LC_MONETARY failed, using \"C\" \n",
      "Loading required package: bigstatsr\n",
      "30,432 variants to be matched.\n",
      "0 ambiguous SNPs have been removed.\n",
      "30,432 variants have been matched; 0 were flipped and 29,999 were reversed.\n",
      "During startup - Warning messages:\n",
      "1: Setting LC_COLLATE failed, using \"C\" \n",
      "2: Setting LC_TIME failed, using \"C\" \n",
      "3: Setting LC_MESSAGES failed, using \"C\" \n",
      "4: Setting LC_MONETARY failed, using \"C\" \n",
      "During startup - Warning messages:\n",
      "1: Setting LC_COLLATE failed, using \"C\" \n",
      "2: Setting LC_TIME failed, using \"C\" \n",
      "3: Setting LC_MESSAGES failed, using \"C\" \n",
      "4: Setting LC_MONETARY failed, using \"C\" \n",
      "During startup - Warning messages:\n",
      "1: Setting LC_COLLATE failed, using \"C\" \n",
      "2: Setting LC_TIME failed, using \"C\" \n",
      "3: Setting LC_MESSAGES failed, using \"C\" \n",
      "4: Setting LC_MONETARY failed, using \"C\" \n",
      "Saving 7 x 7 in image\n",
      "INFO: \u001b[32mauto_prs\u001b[0m is \u001b[32mcompleted\u001b[0m.\n",
      "INFO: \u001b[32mauto_prs\u001b[0m output:   \u001b[32mres-data/AutoPred.Rdata res-data/plots/AutoPlot.png\u001b[0m\n",
      "INFO: Workflow auto_prs (ID=wb33a8fb8136ce8a3) is executed successfully with 1 completed step.\n",
      "\u001b[?2004h"
     ]
    },
    {
     "ename": "",
     "evalue": "1",
     "output_type": "error",
     "traceback": []
    }
   ],
   "source": [
    "sos run ldpred.ipynb auto_prs \\\n",
    "    --outpath res-data \\\n",
    "    --testpath ukbiobank \\\n",
    "    --auto_in res-data/LdMatrix.Rdata \\\n",
    "    --test_file ukbiobank/UKB.SUB.rds"
   ]
  },
  {
   "cell_type": "markdown",
   "id": "registered-individual",
   "metadata": {
    "kernel": "Bash"
   },
   "source": [
    "## Step 8: predict phenotypes"
   ]
  },
  {
   "cell_type": "code",
   "execution_count": 6,
   "id": "based-component",
   "metadata": {
    "kernel": "Bash"
   },
   "outputs": [
    {
     "name": "stdout",
     "output_type": "stream",
     "text": [
      "INFO: Running \u001b[32mnull_phenopred\u001b[0m: l\n",
      "During startup - Warning messages:\n",
      "1: Setting LC_COLLATE failed, using \"C\" \n",
      "2: Setting LC_TIME failed, using \"C\" \n",
      "3: Setting LC_MESSAGES failed, using \"C\" \n",
      "4: Setting LC_MONETARY failed, using \"C\" \n",
      "Loading required package: bigstatsr\n",
      "There were 50 or more warnings (use warnings() to see the first 50)\n",
      "\u001b[90m# A tibble: 1 x 3\u001b[39m\n",
      "  model          R2   MSE\n",
      "  \u001b[3m\u001b[90m<chr>\u001b[39m\u001b[23m       \u001b[3m\u001b[90m<dbl>\u001b[39m\u001b[23m \u001b[3m\u001b[90m<dbl>\u001b[39m\u001b[23m\n",
      "\u001b[90m1\u001b[39m NULL model 0.039\u001b[4m7\u001b[24m 0.943\n",
      "null device \n",
      "          1 \n",
      "INFO: \u001b[32mnull_phenopred\u001b[0m is \u001b[32mcompleted\u001b[0m.\n",
      "INFO: \u001b[32mnull_phenopred\u001b[0m output:   \u001b[32mres-data/summary/NullSummary.pdf res-data/model/NullModel.Rdata\u001b[0m\n",
      "INFO: Workflow null_phenopred (ID=w5023cab995f4589a) is executed successfully with 1 completed step.\n",
      "\u001b[?2004h"
     ]
    },
    {
     "ename": "",
     "evalue": "1",
     "output_type": "error",
     "traceback": []
    }
   ],
   "source": [
    "sos run ldpred.ipynb null_phenopred \\\n",
    "    --outpath res-data \\\n",
    "    --testpath ukbiobank \\\n",
    "    --cov_file ukbiobank/UKB.ind.cov \\\n",
    "    --trait_file ukbiobank/UKB.hdl.cov"
   ]
  },
  {
   "cell_type": "code",
   "execution_count": 7,
   "id": "outdoor-savings",
   "metadata": {
    "kernel": "Bash"
   },
   "outputs": [
    {
     "name": "stdout",
     "output_type": "stream",
     "text": [
      "INFO: Running \u001b[32minf_phenopred\u001b[0m: 4l\u001b[?2004l\u001b[?2004l\n",
      "During startup - Warning messages:\n",
      "1: Setting LC_COLLATE failed, using \"C\" \n",
      "2: Setting LC_TIME failed, using \"C\" \n",
      "3: Setting LC_MESSAGES failed, using \"C\" \n",
      "4: Setting LC_MONETARY failed, using \"C\" \n",
      "Loading required package: bigstatsr\n",
      "There were 50 or more warnings (use warnings() to see the first 50)\n",
      "\u001b[90m# A tibble: 1 x 3\u001b[39m\n",
      "  model         R2   MSE\n",
      "  \u001b[3m\u001b[90m<chr>\u001b[39m\u001b[23m      \u001b[3m\u001b[90m<dbl>\u001b[39m\u001b[23m \u001b[3m\u001b[90m<dbl>\u001b[39m\u001b[23m\n",
      "\u001b[90m1\u001b[39m Inf model 0.039\u001b[4m7\u001b[24m 0.943\n",
      "null device \n",
      "          1 \n",
      "INFO: \u001b[32minf_phenopred\u001b[0m is \u001b[32mcompleted\u001b[0m.\n",
      "INFO: \u001b[32minf_phenopred\u001b[0m output:   \u001b[32mres-data/summary/InfSummary.pdf res-data/model/InfModel.Rdata\u001b[0m\n",
      "INFO: Workflow inf_phenopred (ID=w2f8790d57588343f) is executed successfully with 1 completed step.\n",
      "\u001b[?2004h"
     ]
    },
    {
     "ename": "",
     "evalue": "1",
     "output_type": "error",
     "traceback": []
    }
   ],
   "source": [
    "sos run ldpred.ipynb inf_phenopred \\\n",
    "    --outpath res-data \\\n",
    "    --testpath ukbiobank \\\n",
    "    --cov_file ukbiobank/UKB.ind.cov \\\n",
    "    --trait_file ukbiobank/UKB.hdl.cov \\\n",
    "    --inf_file res-data/InfPred.Rdata \\\n",
    "    --response 1"
   ]
  },
  {
   "cell_type": "code",
   "execution_count": 11,
   "id": "younger-glass",
   "metadata": {
    "kernel": "Bash"
   },
   "outputs": [
    {
     "name": "stdout",
     "output_type": "stream",
     "text": [
      "INFO: Running \u001b[32mgrid_phenopred\u001b[0m: l\u001b[?2004l\u001b[?2004l\n",
      "During startup - Warning messages:\n",
      "1: Setting LC_COLLATE failed, using \"C\" \n",
      "2: Setting LC_TIME failed, using \"C\" \n",
      "3: Setting LC_MESSAGES failed, using \"C\" \n",
      "4: Setting LC_MONETARY failed, using \"C\" \n",
      "Loading required package: bigstatsr\n",
      "Saving 7 x 7 in image\n",
      "There were 50 or more warnings (use warnings() to see the first 50)\n",
      "\u001b[90m# A tibble: 1 x 3\u001b[39m\n",
      "  model          R2   MSE\n",
      "  \u001b[3m\u001b[90m<chr>\u001b[39m\u001b[23m       \u001b[3m\u001b[90m<dbl>\u001b[39m\u001b[23m \u001b[3m\u001b[90m<dbl>\u001b[39m\u001b[23m\n",
      "\u001b[90m1\u001b[39m Grid model 0.040\u001b[4m6\u001b[24m 0.947\n",
      "pdf \n",
      "  2 \n",
      "INFO: \u001b[32mgrid_phenopred\u001b[0m is \u001b[32mcompleted\u001b[0m.\n",
      "INFO: \u001b[32mgrid_phenopred\u001b[0m output:   \u001b[32mres-data/summary/GridSummary.pdf res-data/model/GridModel.Rdata... (3 items)\u001b[0m\n",
      "INFO: Workflow grid_phenopred (ID=w23e15a0ea89a18bb) is executed successfully with 1 completed step.\n",
      "\u001b[?2004h"
     ]
    },
    {
     "ename": "",
     "evalue": "1",
     "output_type": "error",
     "traceback": []
    }
   ],
   "source": [
    "sos run ldpred.ipynb grid_phenopred \\\n",
    "    --outpath res-data \\\n",
    "    --testpath ukbiobank \\\n",
    "    --cov_file ukbiobank/UKB.ind.cov \\\n",
    "    --trait_file ukbiobank/UKB.hdl.cov \\\n",
    "    --grid_file res-data/GridPred.Rdata \\\n",
    "    --response 1"
   ]
  },
  {
   "cell_type": "code",
   "execution_count": 9,
   "id": "medieval-transcript",
   "metadata": {
    "kernel": "Bash"
   },
   "outputs": [
    {
     "name": "stdout",
     "output_type": "stream",
     "text": [
      "INFO: Running \u001b[32mauto_phenopred\u001b[0m: l\u001b[?2004l\u001b[?2004l\n",
      "During startup - Warning messages:\n",
      "1: Setting LC_COLLATE failed, using \"C\" \n",
      "2: Setting LC_TIME failed, using \"C\" \n",
      "3: Setting LC_MESSAGES failed, using \"C\" \n",
      "4: Setting LC_MONETARY failed, using \"C\" \n",
      "Loading required package: bigstatsr\n",
      "There were 50 or more warnings (use warnings() to see the first 50)\n",
      "\u001b[90m# A tibble: 1 x 3\u001b[39m\n",
      "  model          R2   MSE\n",
      "  \u001b[3m\u001b[90m<chr>\u001b[39m\u001b[23m       \u001b[3m\u001b[90m<dbl>\u001b[39m\u001b[23m \u001b[3m\u001b[90m<dbl>\u001b[39m\u001b[23m\n",
      "\u001b[90m1\u001b[39m Auto model 0.039\u001b[4m8\u001b[24m 0.943\n",
      "null device \n",
      "          1 \n",
      "INFO: \u001b[32mauto_phenopred\u001b[0m is \u001b[32mcompleted\u001b[0m.\n",
      "INFO: \u001b[32mauto_phenopred\u001b[0m output:   \u001b[32mres-data/summary/AutoSummary.pdf res-data/model/AutoModel.Rdata\u001b[0m\n",
      "INFO: Workflow auto_phenopred (ID=w97e2f857c0c491cd) is executed successfully with 1 completed step.\n",
      "\u001b[?2004h"
     ]
    },
    {
     "ename": "",
     "evalue": "1",
     "output_type": "error",
     "traceback": []
    }
   ],
   "source": [
    "sos run ldpred.ipynb auto_phenopred \\\n",
    "    --outpath res-data \\\n",
    "    --testpath ukbiobank \\\n",
    "    --cov_file ukbiobank/UKB.ind.cov \\\n",
    "    --trait_file ukbiobank/UKB.hdl.cov \\\n",
    "    --auto_file res-data/AutoPred.Rdata \\\n",
    "    --response 1"
   ]
  }
 ],
 "metadata": {
  "kernelspec": {
   "display_name": "SoS",
   "language": "sos",
   "name": "sos"
  },
  "language_info": {
   "codemirror_mode": "sos",
   "file_extension": ".sos",
   "mimetype": "text/x-sos",
   "name": "sos",
   "nbconvert_exporter": "sos_notebook.converter.SoS_Exporter",
   "pygments_lexer": "sos"
  },
  "sos": {
   "kernels": [
    [
     "Bash",
     "bash",
     "Bash",
     "#E6EEFF",
     "shell"
    ],
    [
     "R",
     "ir",
     "R",
     "#DCDCDA",
     ""
    ]
   ],
   "version": "0.22.4"
  },
  "toc-autonumbering": false
 },
 "nbformat": 4,
 "nbformat_minor": 5
}
