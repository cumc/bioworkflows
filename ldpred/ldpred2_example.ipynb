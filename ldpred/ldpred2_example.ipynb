{
 "cells": [
  {
   "cell_type": "markdown",
   "id": "2203d881",
   "metadata": {
    "kernel": "SoS"
   },
   "source": [
    "# Polygenic Risk Score Analysis on Height GWAS data\n",
    "\n",
    "Here we show an example of our [LDpred2 pipeline](https://github.com/cumc/bioworkflows/blob/master/ldpred/ldpred.ipynb) for height PRS on [an example public data-set](https://drive.google.com/file/d/1x_G0Gxk9jFMY-PMqwtg6-vdEyUPp5p5u/view) from github user [@choishingwan](https://github.com/choishingwan).\n",
    "\n",
    "Analysis in this tutorial is performed by running our pipeline sequentially on a single computer (a desktop, laptop, or a single interactive node on a cluster). The pipeline iteself, implemented in the SoS workflow language, can be configured to run in parallel on a high performance computing cluster environment. Please read the [SoS documentation](https://vatlab.github.io/sos-docs/doc/user_guide/host_setup.html) on how to configure the software and workflow to efficiently perform the analysis for real-world data."
   ]
  },
  {
   "cell_type": "markdown",
   "id": "344f4d59",
   "metadata": {
    "kernel": "SoS"
   },
   "source": [
    "## Data used"
   ]
  },
  {
   "cell_type": "markdown",
   "id": "81e96fc2",
   "metadata": {
    "kernel": "SoS"
   },
   "source": [
    "### Reference panel\n",
    "\n",
    "Obtained via `download_1000G()` in `bigsnpr`. \n",
    "\n",
    "We extracted unrelated European individuals (~500  samples) and ~1.7M SNPs in common with either HapMap3 or the UK Biobank. Classification of European population can be found at [IGSR](https://www.internationalgenome.org/category/population/). European individuals ID are from [IGSR data portal](https://www.internationalgenome.org/data-portal/sample).\n",
    "\n",
    "### GWAS summary statistics data\n",
    "\n",
    "`Height.QC.gz`, from public data-set provided by github user [@choishingwan](https://github.com/choishingwan), of height GWAS in European samples.\n",
    "\n",
    "### Target test data\n",
    "\n",
    "`EUR.height`, `EUR.cov`, and `EUR.eigenvec` contain phenotypes, covariates and genotype principle components of samples. `EUR.QC.*` contain the corresponding genotypes, with ~400,000 variants. We have thinned the genotype data to ~150,000 variants for speeding up the examples used in this tutorial. The resulting genotypes are in `EUR_prune.*`."
   ]
  },
  {
   "cell_type": "markdown",
   "id": "6f0fdbe6",
   "metadata": {
    "kernel": "SoS"
   },
   "source": [
    "## PRS Models applied\n",
    "\n",
    "Auto model runs the algorithm for 30 different $p$ (the proportion of causal variants) values range from 10e-4 to 0.9, and heritability $h^2$ from LD score regression as initial value.\n",
    "\n",
    "Grid model tries a grid of parameters $p$, ranges from 0 to 1 and three $h^2$ which are 0.7/1/1.4 times of initial $h^2$ estimated by LD score regression."
   ]
  },
  {
   "cell_type": "markdown",
   "id": "b6a83a52",
   "metadata": {
    "kernel": "SoS"
   },
   "source": [
    "## Data preparation"
   ]
  },
  {
   "cell_type": "markdown",
   "id": "3c9b2df5",
   "metadata": {
    "kernel": "R"
   },
   "source": [
    "Please download the [tutorial data](http://statgen.us/files/2021/01/ldpred2.tar.gz) and [pipeline script](https://github.com/cumc/bioworkflows/blob/master/ldpred/ldpred.ipynb) to your computer. We have pre-downloaded and extracted the European genotypes from 1000 Genomes, as well as genetic map data. We have preprocessed the GWAS data as follows, to fit in our pipeline."
   ]
  },
  {
   "cell_type": "markdown",
   "id": "f184752d",
   "metadata": {
    "kernel": "SoS"
   },
   "source": [
    "**Please do not run any code from this section. The data bundle above contains all the preprocessed files for you to start the PRS analysis (next section). Code below are documented here for book-keeping and reproducibility.**"
   ]
  },
  {
   "cell_type": "markdown",
   "id": "17df0449",
   "metadata": {
    "kernel": "SoS"
   },
   "source": [
    "### Summary statistics formatting"
   ]
  },
  {
   "cell_type": "code",
   "execution_count": 1,
   "id": "8745d535",
   "metadata": {
    "kernel": "R"
   },
   "outputs": [],
   "source": [
    "sumstats <- bigreadr::fread2(\"./data/GWAS_data/Height.QC.gz\") \n",
    "# LDpred2 require the header to follow the exact naming\n",
    "names(sumstats) <-\n",
    "    c(\"chr\",\n",
    "    \"pos\",\n",
    "    \"rsid\",\n",
    "    \"a1\",\n",
    "    \"a0\",\n",
    "    \"n_eff\",\n",
    "    \"beta_se\",\n",
    "    \"p\",\n",
    "    \"OR\",\n",
    "    \"INFO\",\n",
    "    \"MAF\")\n",
    "# Transform the OR into log(OR)\n",
    "sumstats$beta <- log(sumstats$OR)"
   ]
  },
  {
   "cell_type": "code",
   "execution_count": 2,
   "id": "127ec38f",
   "metadata": {
    "kernel": "R"
   },
   "outputs": [],
   "source": [
    "dir.create(\"./output\", showWarnings = FALSE, recursive = TRUE)\n",
    "saveRDS(sumstats, \"./output/Height.QC.rds\")"
   ]
  },
  {
   "cell_type": "markdown",
   "id": "f0cc79d1",
   "metadata": {
    "kernel": "R"
   },
   "source": [
    "### Phenotype and covariates formatting"
   ]
  },
  {
   "cell_type": "code",
   "execution_count": 3,
   "id": "e0e86bed",
   "metadata": {
    "kernel": "R"
   },
   "outputs": [],
   "source": [
    "options(stringsAsFactors=F)\n",
    "fam = read.table(\"./data/GWAS_data/EUR_prune.fam\", header=F)\n",
    "colnames(fam) = c(\"FID\", \"IID\", \"PID\", \"MID\", \"S\", \"D\")\n",
    "pheno = read.table(\"./data/GWAS_data/EUR.height\", header=T)\n",
    "covar = read.table(\"./data/GWAS_data/EUR.cov\", header=T)\n",
    "pcs = read.table(\"./data/GWAS_data/EUR.eigenvec\", header=F)\n",
    "colnames(pcs) = c(\"FID\", \"IID\", \"PC1\", \"PC2\", \"PC3\", \"PC4\", \"PC5\", \"PC6\")"
   ]
  },
  {
   "cell_type": "code",
   "execution_count": 4,
   "id": "2b80a979",
   "metadata": {
    "kernel": "R"
   },
   "outputs": [
    {
     "name": "stderr",
     "output_type": "stream",
     "text": [
      "Loading required package: dplyr\n",
      "\n",
      "\n",
      "Attaching package: ‘dplyr’\n",
      "\n",
      "\n",
      "The following objects are masked from ‘package:stats’:\n",
      "\n",
      "    filter, lag\n",
      "\n",
      "\n",
      "The following objects are masked from ‘package:base’:\n",
      "\n",
      "    intersect, setdiff, setequal, union\n",
      "\n",
      "\n"
     ]
    }
   ],
   "source": [
    "require(dplyr)\n",
    "pheno_out = left_join(fam, pheno, by = c(\"FID\", \"IID\"))\n",
    "pheno_out = left_join(pheno_out, covar, by = c(\"FID\", \"IID\"))\n",
    "pheno_out = left_join(pheno_out, pcs, by = c(\"FID\", \"IID\"))"
   ]
  },
  {
   "cell_type": "code",
   "execution_count": 5,
   "id": "081c3341",
   "metadata": {
    "kernel": "R"
   },
   "outputs": [],
   "source": [
    "write.table(pheno_out[, \"Height\"], \"./output/EUR.height.matched.txt\", col.names=\"Height\",row.names=F)\n",
    "write.table(pheno_out[, c(\"Sex\",'PC1', 'PC2', 'PC3', 'PC4', 'PC5', 'PC6')], \"./output/EUR.cov.matched.txt\", col.names=T,row.names=F)"
   ]
  },
  {
   "cell_type": "markdown",
   "id": "8346b22f",
   "metadata": {
    "kernel": "SoS"
   },
   "source": [
    "The directory should have the following:"
   ]
  },
  {
   "cell_type": "code",
   "execution_count": 7,
   "id": "aab58c28",
   "metadata": {
    "kernel": "Bash"
   },
   "outputs": [
    {
     "name": "stdout",
     "output_type": "stream",
     "text": [
      "\u001b[01;34m.\u001b[0m\n",
      "├── \u001b[01;32mLICENSE\u001b[0m\n",
      "├── \u001b[01;36mdata\u001b[0m -> \u001b[01;34m/home/ubuntu/raw_data/ldpred2/\u001b[0m\n",
      "├── \u001b[01;32mldpred.ipynb\u001b[0m\n",
      "├── \u001b[01;32mldpred2_example.ipynb\u001b[0m\n",
      "└── \u001b[01;34moutput\u001b[0m\n",
      "    ├── \u001b[01;32mEUR.cov.matched.txt\u001b[0m\n",
      "    ├── \u001b[01;32mEUR.height.matched.txt\u001b[0m\n",
      "    └── \u001b[01;32mHeight.QC.rds\u001b[0m\n",
      "\n",
      "3 directories, 6 files\n"
     ]
    }
   ],
   "source": [
    "tree"
   ]
  },
  {
   "cell_type": "markdown",
   "id": "94213fda",
   "metadata": {
    "kernel": "Bash"
   },
   "source": [
    "## Analysis of height GWAS data\n",
    "\n",
    "We set the work directory to the current folder (created above). This will also be used as part of the filenames in the outputs to identify this analysis."
   ]
  },
  {
   "cell_type": "code",
   "execution_count": 8,
   "id": "b81c0871",
   "metadata": {
    "kernel": "Bash"
   },
   "outputs": [],
   "source": [
    "work_dir=\"output\""
   ]
  },
  {
   "cell_type": "markdown",
   "id": "16e9bd43",
   "metadata": {
    "kernel": "Bash"
   },
   "source": [
    "### Step 1: QC on reference panel\n",
    "\n",
    "Here we assume the GWAS genotype data `EUR.*` has already been QC-ed. We perform here QC for reference panel,"
   ]
  },
  {
   "cell_type": "code",
   "execution_count": 9,
   "id": "70f786f7",
   "metadata": {
    "kernel": "Bash"
   },
   "outputs": [
    {
     "name": "stdout",
     "output_type": "stream",
     "text": [
      "/mnt/efs/shared/.pixi/envs/python/lib/python3.12/site-packages/sos/targets.py:22: UserWarning: pkg_resources is deprecated as an API. See https://setuptools.pypa.io/en/latest/pkg_resources.html. The pkg_resources package is slated for removal as early as 2025-11-30. Refrain from using this package or pin to Setuptools<81.\n",
      "  import pkg_resources\n",
      "INFO: Running \u001b[32mbasic QC filters\u001b[0m: Filter SNPs and select individuals\n",
      "INFO: \u001b[32mbasic QC filters\u001b[0m is \u001b[32mcompleted\u001b[0m.\n",
      "INFO: \u001b[32mbasic QC filters\u001b[0m output:   \u001b[32m/home/ubuntu/handson-tutorials/contents/ldpred2/output/1000G.EUR.output.bed\u001b[0m\n",
      "INFO: Workflow snp_qc (ID=w02dc30087c01723a) is executed successfully with 1 completed step.\n"
     ]
    }
   ],
   "source": [
    "sos run ldpred.ipynb snp_qc \\\n",
    "    --cwd $work_dir \\\n",
    "    --genoFiles ./data/1000G.EUR/1000G.EUR.bed"
   ]
  },
  {
   "cell_type": "markdown",
   "id": "d49a9225",
   "metadata": {
    "kernel": "Bash"
   },
   "source": [
    "The output of a command in our pipeline is highlighted in the green text above, in this case, ` /home/jovyan/work/height_results/1000G.EUR.height_results.bed`. These are typically intermediate files generated and kept by the pipeline program. In this tutorial we will show contents from these outputs only when they are relevant to the final results, although in practice users are always encouraged to check these immediate files to ensure of no obvious sign of problems in each analysis step."
   ]
  },
  {
   "cell_type": "markdown",
   "id": "b4c5c84d",
   "metadata": {
    "kernel": "Bash"
   },
   "source": [
    "### Step 2: Intersect SNPs among summary stats, reference panel and target data\n",
    "\n",
    "SNPs shared between summary statistics, reference panels and target genotype data (for which PRS will be computed) are extracted. Genetic distances will be computed for each variant using interpolated genetic map. **This step can take a bit of time to execute**."
   ]
  },
  {
   "cell_type": "code",
   "execution_count": 10,
   "id": "11a890ef",
   "metadata": {
    "kernel": "Bash"
   },
   "outputs": [
    {
     "name": "stdout",
     "output_type": "stream",
     "text": [
      "/mnt/efs/shared/.pixi/envs/python/lib/python3.12/site-packages/sos/targets.py:22: UserWarning: pkg_resources is deprecated as an API. See https://setuptools.pypa.io/en/latest/pkg_resources.html. The pkg_resources package is slated for removal as early as 2025-11-30. Refrain from using this package or pin to Setuptools<81.\n",
      "  import pkg_resources\n",
      "INFO: Running \u001b[32msnp_intersect_1\u001b[0m: SNP intersect of summary stats and genotype data\n",
      "INFO: \u001b[32msnp_intersect_1\u001b[0m is \u001b[32mcompleted\u001b[0m.\n",
      "INFO: \u001b[32msnp_intersect_1\u001b[0m output:   \u001b[32m/home/ubuntu/handson-tutorials/contents/ldpred2/output/Height.QC.intersect.rds /home/ubuntu/handson-tutorials/contents/ldpred2/output/Height.QC.intersect.snplist\u001b[0m\n",
      "INFO: Running \u001b[32msnp_intersect_2\u001b[0m: \n",
      "INFO: \u001b[32msnp_intersect_2\u001b[0m is \u001b[32mcompleted\u001b[0m (pending nested workflow).\n",
      "INFO: Running \u001b[32mpreprocess_1\u001b[0m: Filter SNPs and select individuals\n",
      "INFO: \u001b[32mpreprocess_1\u001b[0m (index=1) is \u001b[32mcompleted\u001b[0m.\n",
      "INFO: \u001b[32mpreprocess_1\u001b[0m (index=0) is \u001b[32mcompleted\u001b[0m.\n",
      "INFO: \u001b[32mpreprocess_1\u001b[0m output:   \u001b[32m/home/ubuntu/handson-tutorials/contents/ldpred2/output/1000G.EUR.output.snp_intersect.extracted.bed /home/ubuntu/handson-tutorials/contents/ldpred2/output/EUR_prune.snp_intersect.extracted.bed in 2 groups\u001b[0m\n",
      "INFO: Running \u001b[32mconvert PLINK to bigsnpr format with missing data mean imputed\u001b[0m: \n",
      "INFO: \u001b[32mconvert PLINK to bigsnpr format with missing data mean imputed\u001b[0m (index=0) is \u001b[32mcompleted\u001b[0m.\n",
      "INFO: \u001b[32mconvert PLINK to bigsnpr format with missing data mean imputed\u001b[0m (index=1) is \u001b[32mcompleted\u001b[0m.\n",
      "INFO: \u001b[32mconvert PLINK to bigsnpr format with missing data mean imputed\u001b[0m output:   \u001b[32m/home/ubuntu/handson-tutorials/contents/ldpred2/output/1000G.EUR.output.snp_intersect.extracted.bk /home/ubuntu/handson-tutorials/contents/ldpred2/output/1000G.EUR.output.snp_intersect.extracted.rds... (4 items in 2 groups)\u001b[0m\n",
      "INFO: \u001b[32msnp_intersect_2\u001b[0m output:   \u001b[32m/home/ubuntu/handson-tutorials/contents/ldpred2/output/1000G.EUR.output.snp_intersect.extracted.bed /home/ubuntu/handson-tutorials/contents/ldpred2/output/1000G.EUR.output.snp_intersect.extracted.rds... (4 items)\u001b[0m\n",
      "INFO: Workflow snp_intersect (ID=w39d9ef6822dc9551) is executed successfully with 4 completed steps and 6 completed substeps.\n"
     ]
    }
   ],
   "source": [
    "sos run ldpred.ipynb snp_intersect \\\n",
    "    --cwd $work_dir \\\n",
    "    --ss $work_dir/Height.QC.rds \\\n",
    "    --genoFiles $work_dir/1000G.EUR.$work_dir.bed ./data/GWAS_data/EUR_prune.bed"
   ]
  },
  {
   "cell_type": "code",
   "execution_count": 11,
   "id": "f6692ff3",
   "metadata": {
    "kernel": "Bash"
   },
   "outputs": [
    {
     "name": "stdout",
     "output_type": "stream",
     "text": [
      "[1] \"There are 109963 shared SNPs.\"\n"
     ]
    }
   ],
   "source": [
    "cat $work_dir/Height.QC.intersect.stdout"
   ]
  },
  {
   "cell_type": "markdown",
   "id": "8253978f",
   "metadata": {
    "kernel": "Bash"
   },
   "source": [
    "### Step 3: Harmonize alleles for shared SNPs\n",
    "\n",
    "To handle major/minor allele, strand flips and consequently possible flips in sign for summary statistics."
   ]
  },
  {
   "cell_type": "code",
   "execution_count": 12,
   "id": "4c2a102d",
   "metadata": {
    "kernel": "Bash"
   },
   "outputs": [
    {
     "name": "stdout",
     "output_type": "stream",
     "text": [
      "/mnt/efs/shared/.pixi/envs/python/lib/python3.12/site-packages/sos/targets.py:22: UserWarning: pkg_resources is deprecated as an API. See https://setuptools.pypa.io/en/latest/pkg_resources.html. The pkg_resources package is slated for removal as early as 2025-11-30. Refrain from using this package or pin to Setuptools<81.\n",
      "  import pkg_resources\n",
      "INFO: Running \u001b[32msnp_match\u001b[0m: \n",
      "INFO: \u001b[32msnp_match\u001b[0m is \u001b[32mcompleted\u001b[0m.\n",
      "INFO: \u001b[32msnp_match\u001b[0m output:   \u001b[32m/home/ubuntu/handson-tutorials/contents/ldpred2/output/Height.QC.snp_matched.rds /home/ubuntu/handson-tutorials/contents/ldpred2/output/Height.QC.snp_matched.snplist\u001b[0m\n",
      "INFO: Workflow snp_match (ID=wdd08bc0dfc130f76) is executed successfully with 1 completed step.\n"
     ]
    }
   ],
   "source": [
    "sos run ldpred.ipynb snp_match \\\n",
    "    --cwd $work_dir \\\n",
    "    --reference_geno $work_dir/1000G.EUR.$work_dir.snp_intersect.extracted.rds \\\n",
    "    --ss $work_dir/Height.QC.rds"
   ]
  },
  {
   "cell_type": "markdown",
   "id": "8da98234",
   "metadata": {
    "kernel": "Bash"
   },
   "source": [
    "### Step 4: Summary statistics quality control (optional)\n",
    "\n",
    "Please refer to documentation in the pipeline notebook [`ldpred.ipynb`](https://github.com/cumc/bioworkflows/blob/master/ldpred/ldpred.ipynb) for an explanation of summary statistics QC."
   ]
  },
  {
   "cell_type": "code",
   "execution_count": 13,
   "id": "4c0ddcf4",
   "metadata": {
    "kernel": "Bash"
   },
   "outputs": [
    {
     "name": "stdout",
     "output_type": "stream",
     "text": [
      "/mnt/efs/shared/.pixi/envs/python/lib/python3.12/site-packages/sos/targets.py:22: UserWarning: pkg_resources is deprecated as an API. See https://setuptools.pypa.io/en/latest/pkg_resources.html. The pkg_resources package is slated for removal as early as 2025-11-30. Refrain from using this package or pin to Setuptools<81.\n",
      "  import pkg_resources\n",
      "INFO: Running \u001b[32msumstats_qc\u001b[0m: \n",
      "INFO: \u001b[32msumstats_qc\u001b[0m is \u001b[32mcompleted\u001b[0m.\n",
      "INFO: \u001b[32msumstats_qc\u001b[0m output:   \u001b[32m/home/ubuntu/handson-tutorials/contents/ldpred2/output/Height.QC.snp_matched.qc.png /home/ubuntu/handson-tutorials/contents/ldpred2/output/Height.QC.snp_matched.qc.snplist... (3 items)\u001b[0m\n",
      "INFO: Workflow sumstats_qc (ID=wfc6d9a920cb4d8a6) is executed successfully with 1 completed step.\n"
     ]
    }
   ],
   "source": [
    "sos run ldpred.ipynb sumstats_qc \\\n",
    "    --cwd $work_dir \\\n",
    "    --reference_geno $work_dir/1000G.EUR.$work_dir.snp_intersect.extracted.rds \\\n",
    "    --ss $work_dir/Height.QC.snp_matched.rds \\\n",
    "    --sdy 1"
   ]
  },
  {
   "cell_type": "code",
   "execution_count": 14,
   "id": "74de05af",
   "metadata": {
    "kernel": "SoS"
   },
   "outputs": [
    {
     "data": {
      "text/html": [
       "<div class=\"sos_hint\">> output/Height.QC.snp_matched.qc.png (62.6 KiB):</div>"
      ],
      "text/plain": [
       "\n",
       "> output/Height.QC.snp_matched.qc.png (62.6 KiB):"
      ]
     },
     "metadata": {},
     "output_type": "display_data"
    },
    {
     "data": {
      "image/png": "[encoded data removed]"
     },
     "metadata": {
      "image/png": {}
     },
     "output_type": "display_data"
    }
   ],
   "source": [
    "%preview output/Height.QC.snp_matched.qc.png"
   ]
  },
  {
   "cell_type": "markdown",
   "id": "57b485c6",
   "metadata": {
    "kernel": "SoS"
   },
   "source": [
    "From the results, we observe only a few outliers significantly deviating from the majority of the variants. We suspect that quality control recommanded in [LDpred2 manuscript](https://academic.oup.com/bioinformatics/article/36/22-23/5424/6039173) may be too stringent and should not be needed for this data-set. Notice that as the manuscript pointed out, the quality control procedure is not suitable for meta-analyzed GWAS summary statistics."
   ]
  },
  {
   "cell_type": "markdown",
   "id": "038b940b",
   "metadata": {
    "kernel": "Bash"
   },
   "source": [
    "### Step 5: Calculate LD matrix and fit LDSC model\n",
    "\n",
    "As an illustration, hereafter all analysis are performed on both summary statistics before QC in Step 4:"
   ]
  },
  {
   "cell_type": "code",
   "execution_count": 15,
   "id": "44be7e42",
   "metadata": {
    "kernel": "Bash"
   },
   "outputs": [
    {
     "name": "stdout",
     "output_type": "stream",
     "text": [
      "/mnt/efs/shared/.pixi/envs/python/lib/python3.12/site-packages/sos/targets.py:22: UserWarning: pkg_resources is deprecated as an API. See https://setuptools.pypa.io/en/latest/pkg_resources.html. The pkg_resources package is slated for removal as early as 2025-11-30. Refrain from using this package or pin to Setuptools<81.\n",
      "  import pkg_resources\n",
      "INFO: Running \u001b[32mldsc\u001b[0m: \n",
      "INFO: \u001b[32mldsc\u001b[0m is \u001b[32mcompleted\u001b[0m.\n",
      "INFO: \u001b[32mldsc\u001b[0m output:   \u001b[32m/home/ubuntu/handson-tutorials/contents/ldpred2/output/Height.QC.snp_matched.ld.rds\u001b[0m\n",
      "INFO: Workflow ldsc (ID=w839f4cb23892d238) is executed successfully with 1 completed step.\n"
     ]
    }
   ],
   "source": [
    "sos run ldpred.ipynb ldsc \\\n",
    "    --cwd $work_dir \\\n",
    "    --ss $work_dir/Height.QC.snp_matched.rds \\\n",
    "    --reference-geno $work_dir/1000G.EUR.$work_dir.snp_intersect.extracted.rds"
   ]
  },
  {
   "cell_type": "markdown",
   "id": "afac82ee",
   "metadata": {
    "kernel": "Bash"
   },
   "source": [
    "and after QC in Step 4:"
   ]
  },
  {
   "cell_type": "code",
   "execution_count": 16,
   "id": "f43d7faf",
   "metadata": {
    "kernel": "Bash"
   },
   "outputs": [
    {
     "name": "stdout",
     "output_type": "stream",
     "text": [
      "/mnt/efs/shared/.pixi/envs/python/lib/python3.12/site-packages/sos/targets.py:22: UserWarning: pkg_resources is deprecated as an API. See https://setuptools.pypa.io/en/latest/pkg_resources.html. The pkg_resources package is slated for removal as early as 2025-11-30. Refrain from using this package or pin to Setuptools<81.\n",
      "  import pkg_resources\n",
      "INFO: Running \u001b[32mldsc\u001b[0m: \n",
      "INFO: \u001b[32mldsc\u001b[0m is \u001b[32mcompleted\u001b[0m.\n",
      "INFO: \u001b[32mldsc\u001b[0m output:   \u001b[32m/home/ubuntu/handson-tutorials/contents/ldpred2/output/Height.QC.snp_matched.qc.ld.rds\u001b[0m\n",
      "INFO: Workflow ldsc (ID=wf34da83d864e15fe) is executed successfully with 1 completed step.\n"
     ]
    }
   ],
   "source": [
    "sos run ldpred.ipynb ldsc \\\n",
    "    --cwd $work_dir \\\n",
    "    --ss $work_dir/Height.QC.snp_matched.qc.rds \\\n",
    "    --reference-geno $work_dir/1000G.EUR.$work_dir.snp_intersect.extracted.rds"
   ]
  },
  {
   "cell_type": "markdown",
   "id": "80ae1bcf",
   "metadata": {
    "kernel": "Bash"
   },
   "source": [
    "### Step 6: Estimate posterior effect sizes and PRS\n",
    "\n",
    "For QC-ed data, we perform 3 PRS models implemented in `ldpred2`. We demonstrate the infinitesimal model here:"
   ]
  },
  {
   "cell_type": "code",
   "execution_count": 17,
   "id": "b98bff3e",
   "metadata": {
    "kernel": "Bash"
   },
   "outputs": [
    {
     "name": "stdout",
     "output_type": "stream",
     "text": [
      "/mnt/efs/shared/.pixi/envs/python/lib/python3.12/site-packages/sos/targets.py:22: UserWarning: pkg_resources is deprecated as an API. See https://setuptools.pypa.io/en/latest/pkg_resources.html. The pkg_resources package is slated for removal as early as 2025-11-30. Refrain from using this package or pin to Setuptools<81.\n",
      "  import pkg_resources\n",
      "INFO: Running \u001b[32minf_prs\u001b[0m: \n",
      "INFO: \u001b[32minf_prs\u001b[0m is \u001b[32mcompleted\u001b[0m (pending nested workflow).\n",
      "INFO: Running \u001b[32mprs_core\u001b[0m: \n",
      "INFO: \u001b[32mprs_core\u001b[0m is \u001b[32mcompleted\u001b[0m.\n",
      "INFO: \u001b[32mprs_core\u001b[0m output:   \u001b[32m/home/ubuntu/handson-tutorials/contents/ldpred2/output/Height.QC.snp_matched.qc.inf_prs.rds\u001b[0m\n",
      "INFO: \u001b[32minf_prs\u001b[0m output:   \u001b[32m/home/ubuntu/handson-tutorials/contents/ldpred2/output/Height.QC.snp_matched.qc.inf_prs.rds\u001b[0m\n",
      "INFO: Workflow inf_prs (ID=wa6baf02089e664ae) is executed successfully with 2 completed steps.\n"
     ]
    }
   ],
   "source": [
    "sos run ldpred.ipynb inf_prs \\\n",
    "    --cwd $work_dir \\\n",
    "    --ss $work_dir/Height.QC.snp_matched.qc.rds \\\n",
    "    --target-geno $work_dir/EUR_prune.snp_intersect.extracted.rds \\\n",
    "    --ldsc $work_dir/Height.QC.snp_matched.qc.ld.rds"
   ]
  },
  {
   "cell_type": "markdown",
   "id": "12ee4a91",
   "metadata": {
    "kernel": "Bash"
   },
   "source": [
    "Here we examine the PRS generated from this command,"
   ]
  },
  {
   "cell_type": "code",
   "execution_count": 18,
   "id": "81ebc266",
   "metadata": {
    "kernel": "Bash"
   },
   "outputs": [
    {
     "name": "stdout",
     "output_type": "stream",
     "text": [
      "[1] \"104564 SNPs are used for PRS calculations\"\n"
     ]
    }
   ],
   "source": [
    "cat $work_dir/Height.QC.snp_matched.qc.inf_prs.stdout"
   ]
  },
  {
   "cell_type": "code",
   "execution_count": 19,
   "id": "7a645811",
   "metadata": {
    "kernel": "R"
   },
   "outputs": [
    {
     "data": {
      "text/html": [
       "<style>\n",
       ".list-inline {list-style: none; margin:0; padding: 0}\n",
       ".list-inline>li {display: inline-block}\n",
       ".list-inline>li:not(:last-child)::after {content: \"\\00b7\"; padding: 0 .5ex}\n",
       "</style>\n",
       "<ol class=list-inline><li>'beta'</li><li>'prs'</li></ol>\n"
      ],
      "text/latex": [
       "\\begin{enumerate*}\n",
       "\\item 'beta'\n",
       "\\item 'prs'\n",
       "\\end{enumerate*}\n"
      ],
      "text/markdown": [
       "1. 'beta'\n",
       "2. 'prs'\n",
       "\n",
       "\n"
      ],
      "text/plain": [
       "[1] \"beta\" \"prs\" "
      ]
     },
     "metadata": {},
     "output_type": "display_data"
    }
   ],
   "source": [
    "dat = readRDS('output/Height.QC.snp_matched.qc.inf_prs.rds')\n",
    "names(dat)"
   ]
  },
  {
   "cell_type": "code",
   "execution_count": 20,
   "id": "d11a6179",
   "metadata": {
    "kernel": "R"
   },
   "outputs": [
    {
     "data": {
      "image/png": "[encoded data removed]",
      "text/plain": [
       "Plot with title “PRS distribution”"
      ]
     },
     "metadata": {
      "image/png": {
       "height": 420,
       "width": 420
      }
     },
     "output_type": "display_data"
    }
   ],
   "source": [
    "hist(dat$prs, breaks=20, main=\"PRS distribution\", xlab=\"PRS\")"
   ]
  },
  {
   "cell_type": "markdown",
   "id": "b5c490ec",
   "metadata": {
    "kernel": "Bash"
   },
   "source": [
    "Commands below will execute the \"auto\" model and \"grid\" model implemented in `LDpred2`. They are typically more powerful but also computationally intensive. We document them here without executing:\n",
    "\n",
    "```\n",
    "sos run ldpred.ipynb auto_prs \\\n",
    "    --cwd $work_dir \\\n",
    "    --ss $work_dir/Height.QC.snp_matched.qc.rds \\\n",
    "    --target-geno $work_dir/EUR_prune.snp_intersect.extracted.rds \\\n",
    "    --ldsc $work_dir/Height.QC.snp_matched.qc.ld.rds\n",
    "```\n",
    "\n",
    "```\n",
    "sos run ldpred.ipynb grid_prs \\\n",
    "    --cwd $work_dir \\\n",
    "    --ss $work_dir/Height.QC.snp_matched.qc.rds \\\n",
    "    --target-geno $work_dir/EUR_prune.snp_intersect.extracted.rds \\\n",
    "    --ldsc $work_dir/Height.QC.snp_matched.qc.ld.rds \\\n",
    "    --phenoFile ./data/GWAS_data/EUR.height.matched.txt \\\n",
    "    --covFile ./data/GWAS_data/EUR.cov.matched.txt \\\n",
    "    --response continuous\n",
    "```"
   ]
  },
  {
   "cell_type": "markdown",
   "id": "0c98a794",
   "metadata": {
    "kernel": "Bash"
   },
   "source": [
    "We then run the infinitesimal model for original data:"
   ]
  },
  {
   "cell_type": "code",
   "execution_count": 21,
   "id": "c65334c8",
   "metadata": {
    "kernel": "Bash"
   },
   "outputs": [
    {
     "name": "stdout",
     "output_type": "stream",
     "text": [
      "/mnt/efs/shared/.pixi/envs/python/lib/python3.12/site-packages/sos/targets.py:22: UserWarning: pkg_resources is deprecated as an API. See https://setuptools.pypa.io/en/latest/pkg_resources.html. The pkg_resources package is slated for removal as early as 2025-11-30. Refrain from using this package or pin to Setuptools<81.\n",
      "  import pkg_resources\n",
      "INFO: Running \u001b[32minf_prs\u001b[0m: \n",
      "INFO: \u001b[32minf_prs\u001b[0m is \u001b[32mcompleted\u001b[0m (pending nested workflow).\n",
      "INFO: Running \u001b[32mprs_core\u001b[0m: \n",
      "INFO: \u001b[32mprs_core\u001b[0m is \u001b[32mcompleted\u001b[0m.\n",
      "INFO: \u001b[32mprs_core\u001b[0m output:   \u001b[32m/home/ubuntu/handson-tutorials/contents/ldpred2/output/Height.QC.snp_matched.inf_prs.rds\u001b[0m\n",
      "INFO: \u001b[32minf_prs\u001b[0m output:   \u001b[32m/home/ubuntu/handson-tutorials/contents/ldpred2/output/Height.QC.snp_matched.inf_prs.rds\u001b[0m\n",
      "INFO: Workflow inf_prs (ID=wb6f7efed5af257b8) is executed successfully with 2 completed steps.\n"
     ]
    }
   ],
   "source": [
    "sos run ldpred.ipynb inf_prs \\\n",
    "    --cwd $work_dir \\\n",
    "    --ss $work_dir/Height.QC.snp_matched.rds \\\n",
    "    --target-geno $work_dir/EUR_prune.snp_intersect.extracted.rds \\\n",
    "    --ldsc $work_dir/Height.QC.snp_matched.ld.rds"
   ]
  },
  {
   "cell_type": "code",
   "execution_count": 22,
   "id": "3a23cb1c",
   "metadata": {
    "kernel": "Bash"
   },
   "outputs": [
    {
     "name": "stdout",
     "output_type": "stream",
     "text": [
      "[1] \"109963 SNPs are used for PRS calculations\"\n"
     ]
    }
   ],
   "source": [
    "cat $work_dir/Height.QC.snp_matched.inf_prs.stdout"
   ]
  },
  {
   "cell_type": "code",
   "execution_count": 23,
   "id": "60ed1a7b",
   "metadata": {
    "kernel": "R"
   },
   "outputs": [
    {
     "data": {
      "image/png": "[encoded data removed]",
      "text/plain": [
       "Plot with title “PRS distribution (without summary statistics QC)”"
      ]
     },
     "metadata": {
      "image/png": {
       "height": 420,
       "width": 420
      }
     },
     "output_type": "display_data"
    }
   ],
   "source": [
    "dat = readRDS('output/Height.QC.snp_matched.inf_prs.rds')\n",
    "hist(dat$prs, breaks=20, main=\"PRS distribution (without summary statistics QC)\", xlab=\"PRS\")"
   ]
  },
  {
   "cell_type": "markdown",
   "id": "8ecf2a62",
   "metadata": {
    "kernel": "Bash"
   },
   "source": [
    "Again, here are commands for \"auto\" and \"grid\" models:\n",
    "\n",
    "```\n",
    "sos run ldpred.ipynb auto_prs \\\n",
    "    --cwd $work_dir \\\n",
    "    --ss $work_dir/Height.QC.snp_matched.rds \\\n",
    "    --target-geno $work_dir/EUR_prune.snp_intersect.extracted.rds \\\n",
    "    --ldsc $work_dir/Height.QC.snp_matched.ld.rds\n",
    "```\n",
    "\n",
    "```\n",
    "sos run ldpred.ipynb grid_prs \\\n",
    "    --cwd $work_dir \\\n",
    "    --ss $work_dir/Height.QC.snp_matched.rds \\\n",
    "    --target-geno $work_dir/EUR_prune.snp_intersect.extracted.rds \\\n",
    "    --ldsc $work_dir/Height.QC.snp_matched.ld.rds \\\n",
    "    --phenoFile ./data/GWAS_data/EUR.height.matched.txt \\\n",
    "    --covFile ./data/GWAS_data/EUR.cov.matched.txt \\\n",
    "    --response continuous\n",
    "```"
   ]
  },
  {
   "cell_type": "markdown",
   "id": "3699b166",
   "metadata": {
    "kernel": "Bash"
   },
   "source": [
    "**For `grid` model, in practice we should use another subset of individuals to train the model, independent from the subset to make PRS predictions. Here we use the same target genotype data only to illustrate the workflow.**"
   ]
  },
  {
   "cell_type": "markdown",
   "id": "a9fa0dfa",
   "metadata": {
    "kernel": "Bash"
   },
   "source": [
    "### Step 7: predict phenotypes"
   ]
  },
  {
   "cell_type": "markdown",
   "id": "c077a550",
   "metadata": {
    "kernel": "Bash"
   },
   "source": [
    "Baseline model: Trait ~ Sex + PCs"
   ]
  },
  {
   "cell_type": "code",
   "execution_count": 24,
   "id": "f0ac71b3",
   "metadata": {
    "kernel": "Bash"
   },
   "outputs": [
    {
     "name": "stdout",
     "output_type": "stream",
     "text": [
      "/mnt/efs/shared/.pixi/envs/python/lib/python3.12/site-packages/sos/targets.py:22: UserWarning: pkg_resources is deprecated as an API. See https://setuptools.pypa.io/en/latest/pkg_resources.html. The pkg_resources package is slated for removal as early as 2025-11-30. Refrain from using this package or pin to Setuptools<81.\n",
      "  import pkg_resources\n",
      "INFO: Running \u001b[32mpred_eval\u001b[0m: \n",
      "INFO: \u001b[32mpred_eval\u001b[0m is \u001b[32mcompleted\u001b[0m.\n",
      "INFO: \u001b[32mpred_eval\u001b[0m output:   \u001b[32m/home/ubuntu/handson-tutorials/contents/ldpred2/output/EUR.height.matched.baseline.rds\u001b[0m\n",
      "INFO: Workflow pred_eval (ID=w4dff03ca1bc47bd1) is executed successfully with 1 completed step.\n"
     ]
    }
   ],
   "source": [
    "sos run ldpred.ipynb pred_eval \\\n",
    "    --cwd $work_dir \\\n",
    "    --phenoFile output/EUR.height.matched.txt \\\n",
    "    --covFile output/EUR.cov.matched.txt \\\n",
    "    --response continuous"
   ]
  },
  {
   "cell_type": "code",
   "execution_count": 25,
   "id": "a079d2a2",
   "metadata": {
    "kernel": "R"
   },
   "outputs": [
    {
     "data": {
      "text/plain": [
       "\n",
       "Call:\n",
       "lm(formula = ., data = dat[train.ind, ])\n",
       "\n",
       "Residuals:\n",
       "     Min       1Q   Median       3Q      Max \n",
       "-1.88058 -0.57445 -0.02782  0.51809  2.60256 \n",
       "\n",
       "Coefficients:\n",
       "             Estimate Std. Error  t value Pr(>|t|)    \n",
       "(Intercept) 168.78869    0.13623 1238.982   <2e-16 ***\n",
       "Sex           0.89443    0.08528   10.488   <2e-16 ***\n",
       "PC1          -0.99439    0.90011   -1.105   0.2700    \n",
       "PC2          -2.36803    0.94434   -2.508   0.0126 *  \n",
       "PC3          -0.67896    0.95222   -0.713   0.4763    \n",
       "PC4           0.11199    1.72585    0.065   0.9483    \n",
       "PC5           0.44029    0.95044    0.463   0.6435    \n",
       "PC6           0.22226    0.91901    0.242   0.8090    \n",
       "---\n",
       "Signif. codes:  0 ‘***’ 0.001 ‘**’ 0.01 ‘*’ 0.05 ‘.’ 0.1 ‘ ’ 1\n",
       "\n",
       "Residual standard error: 0.82 on 367 degrees of freedom\n",
       "  (11 observations deleted due to missingness)\n",
       "Multiple R-squared:  0.244,\tAdjusted R-squared:  0.2296 \n",
       "F-statistic: 16.92 on 7 and 367 DF,  p-value: < 2.2e-16\n"
      ]
     },
     "metadata": {},
     "output_type": "display_data"
    },
    {
     "data": {
      "text/html": [
       "<table class=\"dataframe\">\n",
       "<caption>A tibble: 1 × 3</caption>\n",
       "<thead>\n",
       "\t<tr><th scope=col>model</th><th scope=col>R2</th><th scope=col>MSE</th></tr>\n",
       "\t<tr><th scope=col>&lt;chr&gt;</th><th scope=col>&lt;dbl&gt;</th><th scope=col>&lt;dbl&gt;</th></tr>\n",
       "</thead>\n",
       "<tbody>\n",
       "\t<tr><td>model</td><td>0.22956</td><td>0.81868</td></tr>\n",
       "</tbody>\n",
       "</table>\n"
      ],
      "text/latex": [
       "A tibble: 1 × 3\n",
       "\\begin{tabular}{lll}\n",
       " model & R2 & MSE\\\\\n",
       " <chr> & <dbl> & <dbl>\\\\\n",
       "\\hline\n",
       "\t model & 0.22956 & 0.81868\\\\\n",
       "\\end{tabular}\n"
      ],
      "text/markdown": [
       "\n",
       "A tibble: 1 × 3\n",
       "\n",
       "| model &lt;chr&gt; | R2 &lt;dbl&gt; | MSE &lt;dbl&gt; |\n",
       "|---|---|---|\n",
       "| model | 0.22956 | 0.81868 |\n",
       "\n"
      ],
      "text/plain": [
       "  model R2      MSE    \n",
       "1 model 0.22956 0.81868"
      ]
     },
     "metadata": {},
     "output_type": "display_data"
    }
   ],
   "source": [
    "res = readRDS(\"output/EUR.height.matched.baseline.rds\")\n",
    "summary(res$fitted)\n",
    "res$summary"
   ]
  },
  {
   "cell_type": "markdown",
   "id": "9f38ff35",
   "metadata": {
    "kernel": "Bash"
   },
   "source": [
    "Infinitesimal model: Trait ~ Sex + PCs + PRS"
   ]
  },
  {
   "cell_type": "code",
   "execution_count": 26,
   "id": "86052b78",
   "metadata": {
    "kernel": "Bash"
   },
   "outputs": [
    {
     "name": "stdout",
     "output_type": "stream",
     "text": [
      "/mnt/efs/shared/.pixi/envs/python/lib/python3.12/site-packages/sos/targets.py:22: UserWarning: pkg_resources is deprecated as an API. See https://setuptools.pypa.io/en/latest/pkg_resources.html. The pkg_resources package is slated for removal as early as 2025-11-30. Refrain from using this package or pin to Setuptools<81.\n",
      "  import pkg_resources\n",
      "INFO: Running \u001b[32mpred_eval\u001b[0m: \n",
      "INFO: \u001b[32mpred_eval\u001b[0m is \u001b[32mcompleted\u001b[0m.\n",
      "INFO: \u001b[32mpred_eval\u001b[0m output:   \u001b[32m/home/ubuntu/handson-tutorials/contents/ldpred2/output/EUR.height.matched.Height.QC.snp_matched.qc.inf_prs.rds\u001b[0m\n",
      "INFO: Workflow pred_eval (ID=wa0c8762200a7c7a4) is executed successfully with 1 completed step.\n",
      "/mnt/efs/shared/.pixi/envs/python/lib/python3.12/site-packages/sos/targets.py:22: UserWarning: pkg_resources is deprecated as an API. See https://setuptools.pypa.io/en/latest/pkg_resources.html. The pkg_resources package is slated for removal as early as 2025-11-30. Refrain from using this package or pin to Setuptools<81.\n",
      "  import pkg_resources\n",
      "INFO: Running \u001b[32mpred_eval\u001b[0m: \n",
      "INFO: \u001b[32mpred_eval\u001b[0m is \u001b[32mcompleted\u001b[0m.\n",
      "INFO: \u001b[32mpred_eval\u001b[0m output:   \u001b[32m/home/ubuntu/handson-tutorials/contents/ldpred2/output/EUR.height.matched.Height.QC.snp_matched.inf_prs.rds\u001b[0m\n",
      "INFO: Workflow pred_eval (ID=w846f063f7d140855) is executed successfully with 1 completed step.\n"
     ]
    }
   ],
   "source": [
    "sos run ldpred.ipynb pred_eval \\\n",
    "    --cwd $work_dir \\\n",
    "    --prs $work_dir/Height.QC.snp_matched.qc.inf_prs.rds \\\n",
    "    --phenoFile $work_dir/EUR.height.matched.txt \\\n",
    "    --covFile $work_dir/EUR.cov.matched.txt \\\n",
    "    --response continuous\n",
    "\n",
    "sos run ldpred.ipynb pred_eval \\\n",
    "    --cwd $work_dir \\\n",
    "    --prs $work_dir/Height.QC.snp_matched.inf_prs.rds \\\n",
    "    --phenoFile $work_dir/EUR.height.matched.txt \\\n",
    "    --covFile $work_dir/EUR.cov.matched.txt \\\n",
    "    --response continuous"
   ]
  },
  {
   "cell_type": "code",
   "execution_count": 27,
   "id": "9683cf7a",
   "metadata": {
    "kernel": "R",
    "scrolled": true
   },
   "outputs": [
    {
     "data": {
      "text/plain": [
       "\n",
       "Call:\n",
       "lm(formula = ., data = dat[train.ind, ])\n",
       "\n",
       "Residuals:\n",
       "     Min       1Q   Median       3Q      Max \n",
       "-1.73015 -0.52593 -0.02821  0.47019  2.40833 \n",
       "\n",
       "Coefficients:\n",
       "             Estimate Std. Error  t value Pr(>|t|)    \n",
       "(Intercept) 168.33930    0.13481 1248.673   <2e-16 ***\n",
       "Sex           0.86128    0.07794   11.050   <2e-16 ***\n",
       "PC1          -1.02292    0.82162   -1.245    0.214    \n",
       "PC2          -1.32026    0.87049   -1.517    0.130    \n",
       "PC3          -1.23730    0.87159   -1.420    0.157    \n",
       "PC4          -0.33065    1.57618   -0.210    0.834    \n",
       "PC5           0.41502    0.86756    0.478    0.633    \n",
       "PC6           0.06739    0.83906    0.080    0.936    \n",
       "PRS           0.48896    0.05666    8.630   <2e-16 ***\n",
       "---\n",
       "Signif. codes:  0 ‘***’ 0.001 ‘**’ 0.01 ‘*’ 0.05 ‘.’ 0.1 ‘ ’ 1\n",
       "\n",
       "Residual standard error: 0.7485 on 366 degrees of freedom\n",
       "  (11 observations deleted due to missingness)\n",
       "Multiple R-squared:  0.3718,\tAdjusted R-squared:  0.3581 \n",
       "F-statistic: 27.08 on 8 and 366 DF,  p-value: < 2.2e-16\n"
      ]
     },
     "metadata": {},
     "output_type": "display_data"
    },
    {
     "data": {
      "text/html": [
       "<table class=\"dataframe\">\n",
       "<caption>A tibble: 1 × 3</caption>\n",
       "<thead>\n",
       "\t<tr><th scope=col>model</th><th scope=col>R2</th><th scope=col>MSE</th></tr>\n",
       "\t<tr><th scope=col>&lt;chr&gt;</th><th scope=col>&lt;dbl&gt;</th><th scope=col>&lt;dbl&gt;</th></tr>\n",
       "</thead>\n",
       "<tbody>\n",
       "\t<tr><td>model.inf_prs</td><td>0.35808</td><td>0.6695</td></tr>\n",
       "</tbody>\n",
       "</table>\n"
      ],
      "text/latex": [
       "A tibble: 1 × 3\n",
       "\\begin{tabular}{lll}\n",
       " model & R2 & MSE\\\\\n",
       " <chr> & <dbl> & <dbl>\\\\\n",
       "\\hline\n",
       "\t model.inf\\_prs & 0.35808 & 0.6695\\\\\n",
       "\\end{tabular}\n"
      ],
      "text/markdown": [
       "\n",
       "A tibble: 1 × 3\n",
       "\n",
       "| model &lt;chr&gt; | R2 &lt;dbl&gt; | MSE &lt;dbl&gt; |\n",
       "|---|---|---|\n",
       "| model.inf_prs | 0.35808 | 0.6695 |\n",
       "\n"
      ],
      "text/plain": [
       "  model         R2      MSE   \n",
       "1 model.inf_prs 0.35808 0.6695"
      ]
     },
     "metadata": {},
     "output_type": "display_data"
    }
   ],
   "source": [
    "res = readRDS(\"output/EUR.height.matched.Height.QC.snp_matched.qc.inf_prs.rds\")\n",
    "summary(res$fitted)\n",
    "res$summary"
   ]
  },
  {
   "cell_type": "code",
   "execution_count": 28,
   "id": "22dddd29",
   "metadata": {
    "kernel": "R",
    "scrolled": true
   },
   "outputs": [
    {
     "data": {
      "text/plain": [
       "\n",
       "Call:\n",
       "lm(formula = ., data = dat[train.ind, ])\n",
       "\n",
       "Residuals:\n",
       "     Min       1Q   Median       3Q      Max \n",
       "-1.76983 -0.49570 -0.03415  0.48238  2.46186 \n",
       "\n",
       "Coefficients:\n",
       "             Estimate Std. Error  t value Pr(>|t|)    \n",
       "(Intercept) 168.31863    0.13505 1246.328   <2e-16 ***\n",
       "Sex           0.85878    0.07772   11.049   <2e-16 ***\n",
       "PC1          -1.14006    0.81936   -1.391   0.1649    \n",
       "PC2          -1.43282    0.86602   -1.654   0.0989 .  \n",
       "PC3          -1.25347    0.86909   -1.442   0.1501    \n",
       "PC4          -0.30386    1.57142   -0.193   0.8468    \n",
       "PC5           0.44159    0.86500    0.511   0.6100    \n",
       "PC6           0.13108    0.83646    0.157   0.8756    \n",
       "PRS           0.47990    0.05466    8.780   <2e-16 ***\n",
       "---\n",
       "Signif. codes:  0 ‘***’ 0.001 ‘**’ 0.01 ‘*’ 0.05 ‘.’ 0.1 ‘ ’ 1\n",
       "\n",
       "Residual standard error: 0.7463 on 366 degrees of freedom\n",
       "  (11 observations deleted due to missingness)\n",
       "Multiple R-squared:  0.3755,\tAdjusted R-squared:  0.3619 \n",
       "F-statistic: 27.51 on 8 and 366 DF,  p-value: < 2.2e-16\n"
      ]
     },
     "metadata": {},
     "output_type": "display_data"
    },
    {
     "data": {
      "text/html": [
       "<table class=\"dataframe\">\n",
       "<caption>A tibble: 1 × 3</caption>\n",
       "<thead>\n",
       "\t<tr><th scope=col>model</th><th scope=col>R2</th><th scope=col>MSE</th></tr>\n",
       "\t<tr><th scope=col>&lt;chr&gt;</th><th scope=col>&lt;dbl&gt;</th><th scope=col>&lt;dbl&gt;</th></tr>\n",
       "</thead>\n",
       "<tbody>\n",
       "\t<tr><td>model.inf_prs</td><td>0.36185</td><td>0.69409</td></tr>\n",
       "</tbody>\n",
       "</table>\n"
      ],
      "text/latex": [
       "A tibble: 1 × 3\n",
       "\\begin{tabular}{lll}\n",
       " model & R2 & MSE\\\\\n",
       " <chr> & <dbl> & <dbl>\\\\\n",
       "\\hline\n",
       "\t model.inf\\_prs & 0.36185 & 0.69409\\\\\n",
       "\\end{tabular}\n"
      ],
      "text/markdown": [
       "\n",
       "A tibble: 1 × 3\n",
       "\n",
       "| model &lt;chr&gt; | R2 &lt;dbl&gt; | MSE &lt;dbl&gt; |\n",
       "|---|---|---|\n",
       "| model.inf_prs | 0.36185 | 0.69409 |\n",
       "\n"
      ],
      "text/plain": [
       "  model         R2      MSE    \n",
       "1 model.inf_prs 0.36185 0.69409"
      ]
     },
     "metadata": {},
     "output_type": "display_data"
    }
   ],
   "source": [
    "res = readRDS(\"output/EUR.height.matched.Height.QC.snp_matched.inf_prs.rds\")\n",
    "summary(res$fitted)\n",
    "res$summary"
   ]
  },
  {
   "cell_type": "markdown",
   "id": "35d11fa8",
   "metadata": {
    "kernel": "Bash"
   },
   "source": [
    "Here are commands for running prediction with \"auto\" and \"grid\" models:\n",
    "\n",
    "```\n",
    "sos run ldpred.ipynb pred_eval \\\n",
    "    --cwd $work_dir \\\n",
    "    --prs $work_dir/Height.QC.snp_matched.qc.auto_prs.rds \\\n",
    "    --phenoFile ./data/GWAS_data/EUR.height.matched.txt \\\n",
    "    --covFile ./data/GWAS_data/EUR.cov.matched.txt \\\n",
    "    --response continuous\n",
    "\n",
    "sos run ldpred.ipynb pred_eval \\\n",
    "    --cwd $work_dir \\\n",
    "    --prs $work_dir/Height.QC.snp_matched.auto_prs.rds \\\n",
    "    --phenoFile ./data/GWAS_data/EUR.height.matched.txt \\\n",
    "    --covFile ./data/GWAS_data/EUR.cov.matched.txt \\\n",
    "    --response continuous\n",
    "\n",
    "sos run ldpred.ipynb pred_eval \\\n",
    "    --cwd $work_dir \\\n",
    "    --prs $work_dir/Height.QC.snp_matched.qc.grid_prs.rds \\\n",
    "    --phenoFile ./data/GWAS_data/EUR.height.matched.txt \\\n",
    "    --covFile ./data/GWAS_data/EUR.cov.matched.txt \\\n",
    "    --response continuous\n",
    "\n",
    "sos run ldpred.ipynb pred_eval \\\n",
    "    --cwd $work_dir \\\n",
    "    --prs $work_dir/Height.QC.snp_matched.grid_prs.rds \\\n",
    "    --phenoFile ./data/GWAS_data/EUR.height.matched.txt \\\n",
    "    --covFile ./data/GWAS_data/EUR.cov.matched.txt \\\n",
    "    --response continuous\n",
    "```"
   ]
  },
  {
   "cell_type": "markdown",
   "id": "5e38eb0e",
   "metadata": {
    "kernel": "Bash"
   },
   "source": [
    "## Results summary"
   ]
  },
  {
   "cell_type": "markdown",
   "id": "af485b42",
   "metadata": {
    "kernel": "Bash"
   },
   "source": [
    "Following table shows adjusted R squared of height prediction models. \"QC\" refers to quality control in Step 4.\n",
    "\n",
    "Compared to baseline model, higher R squared with PRS included implies PRS explains part of the variation of height in the target data-set. Higher R squared is observed without performing quality control for the summary statistics, as we already expected and discussed after seeing the results in Step 4. "
   ]
  },
  {
   "cell_type": "markdown",
   "id": "aafb0d5d",
   "metadata": {
    "kernel": "Bash"
   },
   "source": [
    "| QC? |   # of SNPs  |   Baseline R2 |   Inf R2  |   Grid R2 |   Auto R2 |\n",
    "|:---:|:------------:|:-------:|:-------:|:-------:|:-------:|\n",
    "| Yes | 104,564 | 0.2296 | 0.3581 | -  | - |\n",
    "|  No | 109,963 | 0.2296 | 0.3619 |    -  |    -   |"
   ]
  },
  {
   "cell_type": "markdown",
   "id": "0e25acc4",
   "metadata": {
    "kernel": "R"
   },
   "source": [
    "## Homework\n",
    "\n",
    "Please complete the runs with `grid` and `auto` model and complete the table above. **Computation with these models are intensive and long-running; it is suggested that the analysis be performed in a powerful computing environment**."
   ]
  }
 ],
 "metadata": {
  "kernelspec": {
   "display_name": "SoS",
   "language": "sos",
   "name": "sos"
  },
  "language_info": {
   "codemirror_mode": "sos",
   "file_extension": ".sos",
   "mimetype": "text/x-sos",
   "name": "sos",
   "nbconvert_exporter": "sos_notebook.converter.SoS_Exporter",
   "pygments_lexer": "sos"
  },
  "sos": {
   "kernels": [
    [
     "Bash",
     "bash",
     "Bash",
     "#E6EEFF",
     "shell"
    ],
    [
     "R",
     "ir",
     "R",
     "#DCDCDA",
     "r"
    ],
    [
     "SoS",
     "sos",
     "",
     "",
     "sos"
    ]
   ],
   "version": "0.21.7"
  },
  "toc-autonumbering": false
 },
 "nbformat": 4,
 "nbformat_minor": 5
}
