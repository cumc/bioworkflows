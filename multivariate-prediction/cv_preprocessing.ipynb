{
 "cells": [
  {
   "cell_type": "markdown",
   "metadata": {
    "kernel": "SoS"
   },
   "source": [
    "# K-fold CV data setup for eQTL / TWAS\n",
    "\n",
    "This notebook preprocess association analysis data for use in a K-fold cross validation context."
   ]
  },
  {
   "cell_type": "markdown",
   "metadata": {
    "kernel": "SoS"
   },
   "source": [
    "## Input\n",
    "\n",
    "A list of RDS files with `X` and `Y` for regression, the desired K fold, as well as parameters to perform some initial filtering on the `X` matrix."
   ]
  },
  {
   "cell_type": "markdown",
   "metadata": {
    "kernel": "SoS"
   },
   "source": [
    "## Output\n",
    "\n",
    "Data for each cross-validation fold as well as the corresponding GWAS summary stats $\\hat{\\beta}$, $se(\\hat{\\beta})$."
   ]
  },
  {
   "cell_type": "markdown",
   "metadata": {
    "kernel": "SoS"
   },
   "source": [
    "## Analysis examples\n",
    "\n",
    "```\n",
    "sos run cv_preprocessing.ipynb \\\n",
    "    --analysis-units data/27_brain_non_brain_genes_v8.txt \\\n",
    "    --sample-partition data/samples_folds.txt \\\n",
    "    --data-dir /project2/compbio/GTEx_eQTL/cis_eqtl_analysis_ready \\\n",
    "    --data-suffix GTEx_V8.rds \\\n",
    "    --name 20210512_CV \\\n",
    "    --wd mr_mash_analysis_ready \\\n",
    "    -c midway2.yml -q midway2\n",
    "```"
   ]
  },
  {
   "cell_type": "code",
   "execution_count": null,
   "metadata": {
    "kernel": "SoS"
   },
   "outputs": [],
   "source": [
    "[global]\n",
    "import glob\n",
    "# single column file each line is the data filename\n",
    "parameter: analysis_units = path\n",
    "# Sample partition file\n",
    "parameter: sample_partition = path\n",
    "# Path to data directory\n",
    "parameter: data_dir = path\n",
    "# data file suffix\n",
    "parameter: data_suffix = str\n",
    "# Path to work directory where output locates\n",
    "parameter: wd = path(\"./output\")\n",
    "# An identifier for your run of analysis\n",
    "parameter: name = str\n",
    "# Only analyze `cis` variants -- cis = N means using N variants around the center column of X matrix \n",
    "# Default to NULL to analyze all available variants\n",
    "parameter: cis = 'NULL'\n",
    "regions = [x.strip() for x in open(analysis_units).readlines() if x.strip() and not x.strip().startswith('#')]\n",
    "genes = [f\"{data_dir:a}/{x}.{data_suffix}\" for x in regions if path(f\"{data_dir:a}/{x}.{data_suffix}\").exists()]"
   ]
  },
  {
   "cell_type": "code",
   "execution_count": null,
   "metadata": {
    "kernel": "SoS"
   },
   "outputs": [],
   "source": [
    "[process]\n",
    "# standardize X or not \n",
    "parameter: standardize_X = \"TRUE\"\n",
    "# standardize Y or not\n",
    "parameter: standardize_Y = \"FALSE\"\n",
    "# number of threads to use\n",
    "parameter: nthreads = 1\n",
    "# missing data filter\n",
    "parameter: missing_rate_cutoff = 0.05\n",
    "# MAF filter\n",
    "parameter: maf_cutoff = 0.05\n",
    "# Column variance filter\n",
    "parameter: var_cutoff = 0.05\n",
    "# X data table name\n",
    "parameter: x_table = 'X'\n",
    "# Y data table name\n",
    "parameter: y_table = 'y_res'\n",
    "input: genes, group_by = 1\n",
    "output: f'{wd:a}/{_input:bn}{(\"_cis_%s\" % cis) if cis != \"NULL\" else \"\"}_{name}.rds'\n",
    "task: trunk_workers = 3, trunk_size = 150, walltime = '25m', mem = '6G', cores = nthreads, tags = f'{step_name}_{_output:bn}'\n",
    "R: expand = '${ }', stdout = f\"{_output[0]:n}.stdout\", stderr = f\"{_output[0]:n}.stderr\"\n",
    "    \n",
    "    options(stringsAsFactors = FALSE)\n",
    "\n",
    "    ###Set some parameter variables (These should be set in the SoS script)\n",
    "    standardize <- ${standardize_X}\n",
    "    standardize_response <- ${standardize_Y}\n",
    "    nthreads <- ${nthreads}\n",
    "    missing_rate_cutoff <- ${missing_rate_cutoff}\n",
    "    maf_cutoff <- ${maf_cutoff}\n",
    "    var_cutoff <- ${var_cutoff}\n",
    "\n",
    "    ###Functions to compute MAF, missing genotype rate, impute missing, and filter X accordingly \n",
    "    compute_maf <- function(geno){\n",
    "      f <- mean(geno,na.rm = TRUE)/2\n",
    "      return(min(f, 1-f))\n",
    "    }\n",
    "\n",
    "    compute_missing <- function(geno){\n",
    "      miss <- sum(is.na(geno))/length(geno)\n",
    "      return(miss)\n",
    "    }\n",
    "\n",
    "    mean_impute <- function(geno){\n",
    "      f <- apply(geno, 2, function(x) mean(x,na.rm = TRUE))\n",
    "      for (i in 1:length(f)) geno[,i][which(is.na(geno[,i]))] <- f[i]\n",
    "      return(geno)\n",
    "    }\n",
    "\n",
    "    filter_X <- function(X, missing_rate_thresh, maf_thresh, var_thresh) {\n",
    "      rm_col <- which(apply(X, 2, compute_missing) > missing_rate_thresh)\n",
    "      if (length(rm_col)) X <- X[, -rm_col]\n",
    "      rm_col <- which(apply(X, 2, compute_maf) < maf_thresh)\n",
    "      if (length(rm_col)) X <- X[, -rm_col]\n",
    "      X <- mean_impute(X)\n",
    "      rm_col <- which(matrixStats::colVars(X) < var_thresh)\n",
    "      if (length(rm_col)) X <- X[, -rm_col]\n",
    "      return(X)\n",
    "    }\n",
    "  \n",
    "    get_center <- function(k,n) {\n",
    "      ## For given number k, get the range k surrounding n/2\n",
    "      ## but have to make sure it does not go over the bounds\n",
    "      if (is.null(k)) {\n",
    "          return(1:n)\n",
    "      }\n",
    "      start = floor(n/2 - k/2)\n",
    "      end = floor(n/2 + k/2)\n",
    "      if (start<1) start = 1\n",
    "      if (end>n) end = n\n",
    "      return(start:end)\n",
    "    }\n",
    "  \n",
    "    dat = readRDS(${_input:r})\n",
    " \n",
    "    ###Read in the data\n",
    "    gtex_ids_folds <- read.table(${sample_partition:r}, header=TRUE, sep=\"\t\")\n",
    "\n",
    "    ###Get fold names\n",
    "    folds <- sort(unique(gtex_ids_folds$fold))\n",
    "\n",
    "    ###List to store results\n",
    "    res_all_folds <- vector(\"list\", length(folds))\n",
    "    names(res_all_folds) <- paste0(\"fold_\", folds)\n",
    "\n",
    "    ###Extract Y and (filter) X\n",
    "    Y <- dat$${y_table}\n",
    "    X <- filter_X(dat$${x_table}, missing_rate_cutoff, maf_cutoff, var_cutoff)\n",
    "    X <- X[,get_center(${cis}, ncol(X))]\n",
    "\n",
    "    for(i in folds){\n",
    "      test_ids <- gtex_ids_folds[which(gtex_ids_folds$fold == i), 1]\n",
    "      Xtrain <- X[!(rownames(X) %in% test_ids), ]\n",
    "      Ytrain <- Y[!(rownames(Y) %in% test_ids), ]\n",
    "\n",
    "      univ_sumstats <- mr.mash.alpha::compute_univariate_sumstats(X=Xtrain, Y=Ytrain, standardize=standardize,\n",
    "                                                                  standardize.response=standardize_response,\n",
    "                                                                  mc.cores=nthreads)\n",
    "      res_all_folds[[i]] <- univ_sumstats\n",
    "    }\n",
    "\n",
    "    saveRDS(res_all_folds, ${_output:r})"
   ]
  }
 ],
 "metadata": {
  "kernelspec": {
   "display_name": "SoS",
   "language": "sos",
   "name": "sos"
  },
  "language_info": {
   "codemirror_mode": "sos",
   "file_extension": ".sos",
   "mimetype": "text/x-sos",
   "name": "sos",
   "nbconvert_exporter": "sos_notebook.converter.SoS_Exporter",
   "pygments_lexer": "sos"
  },
  "sos": {
   "kernels": [
    [
     "SoS",
     "sos",
     "",
     ""
    ]
   ],
   "version": "0.22.4"
  }
 },
 "nbformat": 4,
 "nbformat_minor": 4
}
